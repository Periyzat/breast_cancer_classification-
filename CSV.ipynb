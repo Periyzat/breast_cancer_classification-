{
 "cells": [
  {
   "cell_type": "code",
   "execution_count": 66,
   "id": "e641c097-fc2d-43f6-acdf-7635ee18faae",
   "metadata": {},
   "outputs": [],
   "source": [
    "import pandas as pd \n",
    "import numpy as np \n",
    "import matplotlib.pyplot as plt \n",
    "import seaborn as sns\n",
    "\n",
    "from sklearn.model_selection import train_test_split\n",
    "from sklearn.model_selection import cross_val_score\n",
    "from sklearn.metrics import confusion_matrix\n",
    "from sklearn.metrics import classification_report\n",
    "from sklearn.metrics import accuracy_score\n",
    "from sklearn.metrics import roc_auc_score\n",
    "\n",
    "from sklearn.preprocessing import MinMaxScaler\n",
    "\n",
    "%matplotlib inline\n",
    "\n",
    "from sklearn.model_selection import KFold\n",
    "from sklearn.linear_model import LogisticRegression\n",
    "from sklearn.ensemble import RandomForestClassifier\n",
    "from sklearn.tree import DecisionTreeClassifier\n",
    "from sklearn.neighbors import KNeighborsClassifier\n",
    "from sklearn.naive_bayes import GaussianNB\n",
    "from sklearn.svm import SVC\n",
    "from xgboost import XGBClassifier\n",
    "\n",
    "from sklearn.pipeline import Pipeline\n",
    "from sklearn.model_selection import GridSearchCV"
   ]
  },
  {
   "cell_type": "code",
   "execution_count": 2,
   "id": "a2be159c-7bfd-4a77-a5b1-11bc37cc056e",
   "metadata": {},
   "outputs": [
    {
     "data": {
      "text/html": [
       "<div>\n",
       "<style scoped>\n",
       "    .dataframe tbody tr th:only-of-type {\n",
       "        vertical-align: middle;\n",
       "    }\n",
       "\n",
       "    .dataframe tbody tr th {\n",
       "        vertical-align: top;\n",
       "    }\n",
       "\n",
       "    .dataframe thead th {\n",
       "        text-align: right;\n",
       "    }\n",
       "</style>\n",
       "<table border=\"1\" class=\"dataframe\">\n",
       "  <thead>\n",
       "    <tr style=\"text-align: right;\">\n",
       "      <th></th>\n",
       "      <th>patient_id</th>\n",
       "      <th>breast_density</th>\n",
       "      <th>left or right breast</th>\n",
       "      <th>image view</th>\n",
       "      <th>abnormality id</th>\n",
       "      <th>abnormality type</th>\n",
       "      <th>mass shape</th>\n",
       "      <th>mass margins</th>\n",
       "      <th>assessment</th>\n",
       "      <th>pathology</th>\n",
       "      <th>subtlety</th>\n",
       "      <th>image file path</th>\n",
       "      <th>cropped image file path</th>\n",
       "      <th>ROI mask file path</th>\n",
       "    </tr>\n",
       "  </thead>\n",
       "  <tbody>\n",
       "    <tr>\n",
       "      <th>0</th>\n",
       "      <td>P_00001</td>\n",
       "      <td>3</td>\n",
       "      <td>LEFT</td>\n",
       "      <td>CC</td>\n",
       "      <td>1</td>\n",
       "      <td>mass</td>\n",
       "      <td>IRREGULAR-ARCHITECTURAL_DISTORTION</td>\n",
       "      <td>SPICULATED</td>\n",
       "      <td>4</td>\n",
       "      <td>MALIGNANT</td>\n",
       "      <td>4</td>\n",
       "      <td>Mass-Training_P_00001_LEFT_CC/1.3.6.1.4.1.9590...</td>\n",
       "      <td>Mass-Training_P_00001_LEFT_CC_1/1.3.6.1.4.1.95...</td>\n",
       "      <td>Mass-Training_P_00001_LEFT_CC_1/1.3.6.1.4.1.95...</td>\n",
       "    </tr>\n",
       "    <tr>\n",
       "      <th>1</th>\n",
       "      <td>P_00001</td>\n",
       "      <td>3</td>\n",
       "      <td>LEFT</td>\n",
       "      <td>MLO</td>\n",
       "      <td>1</td>\n",
       "      <td>mass</td>\n",
       "      <td>IRREGULAR-ARCHITECTURAL_DISTORTION</td>\n",
       "      <td>SPICULATED</td>\n",
       "      <td>4</td>\n",
       "      <td>MALIGNANT</td>\n",
       "      <td>4</td>\n",
       "      <td>Mass-Training_P_00001_LEFT_MLO/1.3.6.1.4.1.959...</td>\n",
       "      <td>Mass-Training_P_00001_LEFT_MLO_1/1.3.6.1.4.1.9...</td>\n",
       "      <td>Mass-Training_P_00001_LEFT_MLO_1/1.3.6.1.4.1.9...</td>\n",
       "    </tr>\n",
       "    <tr>\n",
       "      <th>2</th>\n",
       "      <td>P_00004</td>\n",
       "      <td>3</td>\n",
       "      <td>LEFT</td>\n",
       "      <td>CC</td>\n",
       "      <td>1</td>\n",
       "      <td>mass</td>\n",
       "      <td>ARCHITECTURAL_DISTORTION</td>\n",
       "      <td>ILL_DEFINED</td>\n",
       "      <td>4</td>\n",
       "      <td>BENIGN</td>\n",
       "      <td>3</td>\n",
       "      <td>Mass-Training_P_00004_LEFT_CC/1.3.6.1.4.1.9590...</td>\n",
       "      <td>Mass-Training_P_00004_LEFT_CC_1/1.3.6.1.4.1.95...</td>\n",
       "      <td>Mass-Training_P_00004_LEFT_CC_1/1.3.6.1.4.1.95...</td>\n",
       "    </tr>\n",
       "    <tr>\n",
       "      <th>3</th>\n",
       "      <td>P_00004</td>\n",
       "      <td>3</td>\n",
       "      <td>LEFT</td>\n",
       "      <td>MLO</td>\n",
       "      <td>1</td>\n",
       "      <td>mass</td>\n",
       "      <td>ARCHITECTURAL_DISTORTION</td>\n",
       "      <td>ILL_DEFINED</td>\n",
       "      <td>4</td>\n",
       "      <td>BENIGN</td>\n",
       "      <td>3</td>\n",
       "      <td>Mass-Training_P_00004_LEFT_MLO/1.3.6.1.4.1.959...</td>\n",
       "      <td>Mass-Training_P_00004_LEFT_MLO_1/1.3.6.1.4.1.9...</td>\n",
       "      <td>Mass-Training_P_00004_LEFT_MLO_1/1.3.6.1.4.1.9...</td>\n",
       "    </tr>\n",
       "    <tr>\n",
       "      <th>4</th>\n",
       "      <td>P_00004</td>\n",
       "      <td>3</td>\n",
       "      <td>RIGHT</td>\n",
       "      <td>MLO</td>\n",
       "      <td>1</td>\n",
       "      <td>mass</td>\n",
       "      <td>OVAL</td>\n",
       "      <td>CIRCUMSCRIBED</td>\n",
       "      <td>4</td>\n",
       "      <td>BENIGN</td>\n",
       "      <td>5</td>\n",
       "      <td>Mass-Training_P_00004_RIGHT_MLO/1.3.6.1.4.1.95...</td>\n",
       "      <td>Mass-Training_P_00004_RIGHT_MLO_1/1.3.6.1.4.1....</td>\n",
       "      <td>Mass-Training_P_00004_RIGHT_MLO_1/1.3.6.1.4.1....</td>\n",
       "    </tr>\n",
       "    <tr>\n",
       "      <th>...</th>\n",
       "      <td>...</td>\n",
       "      <td>...</td>\n",
       "      <td>...</td>\n",
       "      <td>...</td>\n",
       "      <td>...</td>\n",
       "      <td>...</td>\n",
       "      <td>...</td>\n",
       "      <td>...</td>\n",
       "      <td>...</td>\n",
       "      <td>...</td>\n",
       "      <td>...</td>\n",
       "      <td>...</td>\n",
       "      <td>...</td>\n",
       "      <td>...</td>\n",
       "    </tr>\n",
       "    <tr>\n",
       "      <th>1313</th>\n",
       "      <td>P_02033</td>\n",
       "      <td>2</td>\n",
       "      <td>RIGHT</td>\n",
       "      <td>MLO</td>\n",
       "      <td>1</td>\n",
       "      <td>mass</td>\n",
       "      <td>IRREGULAR</td>\n",
       "      <td>ILL_DEFINED</td>\n",
       "      <td>3</td>\n",
       "      <td>MALIGNANT</td>\n",
       "      <td>4</td>\n",
       "      <td>Mass-Training_P_02033_RIGHT_MLO/1.3.6.1.4.1.95...</td>\n",
       "      <td>Mass-Training_P_02033_RIGHT_MLO_1/1.3.6.1.4.1....</td>\n",
       "      <td>Mass-Training_P_02033_RIGHT_MLO_1/1.3.6.1.4.1....</td>\n",
       "    </tr>\n",
       "    <tr>\n",
       "      <th>1314</th>\n",
       "      <td>P_02079</td>\n",
       "      <td>2</td>\n",
       "      <td>RIGHT</td>\n",
       "      <td>CC</td>\n",
       "      <td>1</td>\n",
       "      <td>mass</td>\n",
       "      <td>ROUND</td>\n",
       "      <td>SPICULATED</td>\n",
       "      <td>3</td>\n",
       "      <td>MALIGNANT</td>\n",
       "      <td>5</td>\n",
       "      <td>Mass-Training_P_02079_RIGHT_CC/1.3.6.1.4.1.959...</td>\n",
       "      <td>Mass-Training_P_02079_RIGHT_CC_1/1.3.6.1.4.1.9...</td>\n",
       "      <td>Mass-Training_P_02079_RIGHT_CC_1/1.3.6.1.4.1.9...</td>\n",
       "    </tr>\n",
       "    <tr>\n",
       "      <th>1315</th>\n",
       "      <td>P_02079</td>\n",
       "      <td>2</td>\n",
       "      <td>RIGHT</td>\n",
       "      <td>MLO</td>\n",
       "      <td>1</td>\n",
       "      <td>mass</td>\n",
       "      <td>ROUND</td>\n",
       "      <td>SPICULATED</td>\n",
       "      <td>3</td>\n",
       "      <td>MALIGNANT</td>\n",
       "      <td>5</td>\n",
       "      <td>Mass-Training_P_02079_RIGHT_MLO/1.3.6.1.4.1.95...</td>\n",
       "      <td>Mass-Training_P_02079_RIGHT_MLO_1/1.3.6.1.4.1....</td>\n",
       "      <td>Mass-Training_P_02079_RIGHT_MLO_1/1.3.6.1.4.1....</td>\n",
       "    </tr>\n",
       "    <tr>\n",
       "      <th>1316</th>\n",
       "      <td>P_02092</td>\n",
       "      <td>2</td>\n",
       "      <td>LEFT</td>\n",
       "      <td>CC</td>\n",
       "      <td>1</td>\n",
       "      <td>mass</td>\n",
       "      <td>IRREGULAR</td>\n",
       "      <td>SPICULATED</td>\n",
       "      <td>3</td>\n",
       "      <td>MALIGNANT</td>\n",
       "      <td>2</td>\n",
       "      <td>Mass-Training_P_02092_LEFT_CC/1.3.6.1.4.1.9590...</td>\n",
       "      <td>Mass-Training_P_02092_LEFT_CC_1/1.3.6.1.4.1.95...</td>\n",
       "      <td>Mass-Training_P_02092_LEFT_CC_1/1.3.6.1.4.1.95...</td>\n",
       "    </tr>\n",
       "    <tr>\n",
       "      <th>1317</th>\n",
       "      <td>P_02092</td>\n",
       "      <td>2</td>\n",
       "      <td>LEFT</td>\n",
       "      <td>MLO</td>\n",
       "      <td>1</td>\n",
       "      <td>mass</td>\n",
       "      <td>IRREGULAR</td>\n",
       "      <td>SPICULATED</td>\n",
       "      <td>3</td>\n",
       "      <td>MALIGNANT</td>\n",
       "      <td>2</td>\n",
       "      <td>Mass-Training_P_02092_LEFT_MLO/1.3.6.1.4.1.959...</td>\n",
       "      <td>Mass-Training_P_02092_LEFT_MLO_1/1.3.6.1.4.1.9...</td>\n",
       "      <td>Mass-Training_P_02092_LEFT_MLO_1/1.3.6.1.4.1.9...</td>\n",
       "    </tr>\n",
       "  </tbody>\n",
       "</table>\n",
       "<p>1318 rows × 14 columns</p>\n",
       "</div>"
      ],
      "text/plain": [
       "     patient_id  breast_density left or right breast image view  \\\n",
       "0       P_00001               3                 LEFT         CC   \n",
       "1       P_00001               3                 LEFT        MLO   \n",
       "2       P_00004               3                 LEFT         CC   \n",
       "3       P_00004               3                 LEFT        MLO   \n",
       "4       P_00004               3                RIGHT        MLO   \n",
       "...         ...             ...                  ...        ...   \n",
       "1313    P_02033               2                RIGHT        MLO   \n",
       "1314    P_02079               2                RIGHT         CC   \n",
       "1315    P_02079               2                RIGHT        MLO   \n",
       "1316    P_02092               2                 LEFT         CC   \n",
       "1317    P_02092               2                 LEFT        MLO   \n",
       "\n",
       "      abnormality id abnormality type                          mass shape  \\\n",
       "0                  1             mass  IRREGULAR-ARCHITECTURAL_DISTORTION   \n",
       "1                  1             mass  IRREGULAR-ARCHITECTURAL_DISTORTION   \n",
       "2                  1             mass            ARCHITECTURAL_DISTORTION   \n",
       "3                  1             mass            ARCHITECTURAL_DISTORTION   \n",
       "4                  1             mass                                OVAL   \n",
       "...              ...              ...                                 ...   \n",
       "1313               1             mass                           IRREGULAR   \n",
       "1314               1             mass                               ROUND   \n",
       "1315               1             mass                               ROUND   \n",
       "1316               1             mass                           IRREGULAR   \n",
       "1317               1             mass                           IRREGULAR   \n",
       "\n",
       "       mass margins  assessment  pathology  subtlety  \\\n",
       "0        SPICULATED           4  MALIGNANT         4   \n",
       "1        SPICULATED           4  MALIGNANT         4   \n",
       "2       ILL_DEFINED           4     BENIGN         3   \n",
       "3       ILL_DEFINED           4     BENIGN         3   \n",
       "4     CIRCUMSCRIBED           4     BENIGN         5   \n",
       "...             ...         ...        ...       ...   \n",
       "1313    ILL_DEFINED           3  MALIGNANT         4   \n",
       "1314     SPICULATED           3  MALIGNANT         5   \n",
       "1315     SPICULATED           3  MALIGNANT         5   \n",
       "1316     SPICULATED           3  MALIGNANT         2   \n",
       "1317     SPICULATED           3  MALIGNANT         2   \n",
       "\n",
       "                                        image file path  \\\n",
       "0     Mass-Training_P_00001_LEFT_CC/1.3.6.1.4.1.9590...   \n",
       "1     Mass-Training_P_00001_LEFT_MLO/1.3.6.1.4.1.959...   \n",
       "2     Mass-Training_P_00004_LEFT_CC/1.3.6.1.4.1.9590...   \n",
       "3     Mass-Training_P_00004_LEFT_MLO/1.3.6.1.4.1.959...   \n",
       "4     Mass-Training_P_00004_RIGHT_MLO/1.3.6.1.4.1.95...   \n",
       "...                                                 ...   \n",
       "1313  Mass-Training_P_02033_RIGHT_MLO/1.3.6.1.4.1.95...   \n",
       "1314  Mass-Training_P_02079_RIGHT_CC/1.3.6.1.4.1.959...   \n",
       "1315  Mass-Training_P_02079_RIGHT_MLO/1.3.6.1.4.1.95...   \n",
       "1316  Mass-Training_P_02092_LEFT_CC/1.3.6.1.4.1.9590...   \n",
       "1317  Mass-Training_P_02092_LEFT_MLO/1.3.6.1.4.1.959...   \n",
       "\n",
       "                                cropped image file path  \\\n",
       "0     Mass-Training_P_00001_LEFT_CC_1/1.3.6.1.4.1.95...   \n",
       "1     Mass-Training_P_00001_LEFT_MLO_1/1.3.6.1.4.1.9...   \n",
       "2     Mass-Training_P_00004_LEFT_CC_1/1.3.6.1.4.1.95...   \n",
       "3     Mass-Training_P_00004_LEFT_MLO_1/1.3.6.1.4.1.9...   \n",
       "4     Mass-Training_P_00004_RIGHT_MLO_1/1.3.6.1.4.1....   \n",
       "...                                                 ...   \n",
       "1313  Mass-Training_P_02033_RIGHT_MLO_1/1.3.6.1.4.1....   \n",
       "1314  Mass-Training_P_02079_RIGHT_CC_1/1.3.6.1.4.1.9...   \n",
       "1315  Mass-Training_P_02079_RIGHT_MLO_1/1.3.6.1.4.1....   \n",
       "1316  Mass-Training_P_02092_LEFT_CC_1/1.3.6.1.4.1.95...   \n",
       "1317  Mass-Training_P_02092_LEFT_MLO_1/1.3.6.1.4.1.9...   \n",
       "\n",
       "                                     ROI mask file path  \n",
       "0     Mass-Training_P_00001_LEFT_CC_1/1.3.6.1.4.1.95...  \n",
       "1     Mass-Training_P_00001_LEFT_MLO_1/1.3.6.1.4.1.9...  \n",
       "2     Mass-Training_P_00004_LEFT_CC_1/1.3.6.1.4.1.95...  \n",
       "3     Mass-Training_P_00004_LEFT_MLO_1/1.3.6.1.4.1.9...  \n",
       "4     Mass-Training_P_00004_RIGHT_MLO_1/1.3.6.1.4.1....  \n",
       "...                                                 ...  \n",
       "1313  Mass-Training_P_02033_RIGHT_MLO_1/1.3.6.1.4.1....  \n",
       "1314  Mass-Training_P_02079_RIGHT_CC_1/1.3.6.1.4.1.9...  \n",
       "1315  Mass-Training_P_02079_RIGHT_MLO_1/1.3.6.1.4.1....  \n",
       "1316  Mass-Training_P_02092_LEFT_CC_1/1.3.6.1.4.1.95...  \n",
       "1317  Mass-Training_P_02092_LEFT_MLO_1/1.3.6.1.4.1.9...  \n",
       "\n",
       "[1318 rows x 14 columns]"
      ]
     },
     "execution_count": 2,
     "metadata": {},
     "output_type": "execute_result"
    }
   ],
   "source": [
    "train_df = pd.read_csv('D:/ResearchIdeas/0.BreastCancer/archive/csv/mass_case_description_train_set.csv')\n",
    "train_df = train_df.reset_index(drop=True)\n",
    "train_df"
   ]
  },
  {
   "cell_type": "code",
   "execution_count": 3,
   "id": "bdf45a0d-3c55-4b5c-b321-e4cdb7cf0d83",
   "metadata": {},
   "outputs": [
    {
     "data": {
      "text/html": [
       "<div>\n",
       "<style scoped>\n",
       "    .dataframe tbody tr th:only-of-type {\n",
       "        vertical-align: middle;\n",
       "    }\n",
       "\n",
       "    .dataframe tbody tr th {\n",
       "        vertical-align: top;\n",
       "    }\n",
       "\n",
       "    .dataframe thead th {\n",
       "        text-align: right;\n",
       "    }\n",
       "</style>\n",
       "<table border=\"1\" class=\"dataframe\">\n",
       "  <thead>\n",
       "    <tr style=\"text-align: right;\">\n",
       "      <th></th>\n",
       "      <th>patient_id</th>\n",
       "      <th>breast_density</th>\n",
       "      <th>left or right breast</th>\n",
       "      <th>image view</th>\n",
       "      <th>abnormality id</th>\n",
       "      <th>abnormality type</th>\n",
       "      <th>mass shape</th>\n",
       "      <th>mass margins</th>\n",
       "      <th>assessment</th>\n",
       "      <th>pathology</th>\n",
       "      <th>subtlety</th>\n",
       "      <th>image file path</th>\n",
       "      <th>cropped image file path</th>\n",
       "      <th>ROI mask file path</th>\n",
       "    </tr>\n",
       "  </thead>\n",
       "  <tbody>\n",
       "    <tr>\n",
       "      <th>0</th>\n",
       "      <td>P_00016</td>\n",
       "      <td>4</td>\n",
       "      <td>LEFT</td>\n",
       "      <td>CC</td>\n",
       "      <td>1</td>\n",
       "      <td>mass</td>\n",
       "      <td>IRREGULAR</td>\n",
       "      <td>SPICULATED</td>\n",
       "      <td>5</td>\n",
       "      <td>MALIGNANT</td>\n",
       "      <td>5</td>\n",
       "      <td>Mass-Test_P_00016_LEFT_CC/1.3.6.1.4.1.9590.100...</td>\n",
       "      <td>Mass-Test_P_00016_LEFT_CC_1/1.3.6.1.4.1.9590.1...</td>\n",
       "      <td>Mass-Test_P_00016_LEFT_CC_1/1.3.6.1.4.1.9590.1...</td>\n",
       "    </tr>\n",
       "    <tr>\n",
       "      <th>1</th>\n",
       "      <td>P_00016</td>\n",
       "      <td>4</td>\n",
       "      <td>LEFT</td>\n",
       "      <td>MLO</td>\n",
       "      <td>1</td>\n",
       "      <td>mass</td>\n",
       "      <td>IRREGULAR</td>\n",
       "      <td>SPICULATED</td>\n",
       "      <td>5</td>\n",
       "      <td>MALIGNANT</td>\n",
       "      <td>5</td>\n",
       "      <td>Mass-Test_P_00016_LEFT_MLO/1.3.6.1.4.1.9590.10...</td>\n",
       "      <td>Mass-Test_P_00016_LEFT_MLO_1/1.3.6.1.4.1.9590....</td>\n",
       "      <td>Mass-Test_P_00016_LEFT_MLO_1/1.3.6.1.4.1.9590....</td>\n",
       "    </tr>\n",
       "    <tr>\n",
       "      <th>2</th>\n",
       "      <td>P_00017</td>\n",
       "      <td>2</td>\n",
       "      <td>LEFT</td>\n",
       "      <td>CC</td>\n",
       "      <td>1</td>\n",
       "      <td>mass</td>\n",
       "      <td>ROUND</td>\n",
       "      <td>CIRCUMSCRIBED</td>\n",
       "      <td>4</td>\n",
       "      <td>MALIGNANT</td>\n",
       "      <td>4</td>\n",
       "      <td>Mass-Test_P_00017_LEFT_CC/1.3.6.1.4.1.9590.100...</td>\n",
       "      <td>Mass-Test_P_00017_LEFT_CC_1/1.3.6.1.4.1.9590.1...</td>\n",
       "      <td>Mass-Test_P_00017_LEFT_CC_1/1.3.6.1.4.1.9590.1...</td>\n",
       "    </tr>\n",
       "    <tr>\n",
       "      <th>3</th>\n",
       "      <td>P_00017</td>\n",
       "      <td>2</td>\n",
       "      <td>LEFT</td>\n",
       "      <td>MLO</td>\n",
       "      <td>1</td>\n",
       "      <td>mass</td>\n",
       "      <td>ROUND</td>\n",
       "      <td>ILL_DEFINED</td>\n",
       "      <td>4</td>\n",
       "      <td>MALIGNANT</td>\n",
       "      <td>4</td>\n",
       "      <td>Mass-Test_P_00017_LEFT_MLO/1.3.6.1.4.1.9590.10...</td>\n",
       "      <td>Mass-Test_P_00017_LEFT_MLO_1/1.3.6.1.4.1.9590....</td>\n",
       "      <td>Mass-Test_P_00017_LEFT_MLO_1/1.3.6.1.4.1.9590....</td>\n",
       "    </tr>\n",
       "    <tr>\n",
       "      <th>4</th>\n",
       "      <td>P_00032</td>\n",
       "      <td>3</td>\n",
       "      <td>RIGHT</td>\n",
       "      <td>CC</td>\n",
       "      <td>1</td>\n",
       "      <td>mass</td>\n",
       "      <td>ROUND</td>\n",
       "      <td>OBSCURED</td>\n",
       "      <td>0</td>\n",
       "      <td>BENIGN</td>\n",
       "      <td>2</td>\n",
       "      <td>Mass-Test_P_00032_RIGHT_CC/1.3.6.1.4.1.9590.10...</td>\n",
       "      <td>Mass-Test_P_00032_RIGHT_CC_1/1.3.6.1.4.1.9590....</td>\n",
       "      <td>Mass-Test_P_00032_RIGHT_CC_1/1.3.6.1.4.1.9590....</td>\n",
       "    </tr>\n",
       "  </tbody>\n",
       "</table>\n",
       "</div>"
      ],
      "text/plain": [
       "  patient_id  breast_density left or right breast image view  abnormality id  \\\n",
       "0    P_00016               4                 LEFT         CC               1   \n",
       "1    P_00016               4                 LEFT        MLO               1   \n",
       "2    P_00017               2                 LEFT         CC               1   \n",
       "3    P_00017               2                 LEFT        MLO               1   \n",
       "4    P_00032               3                RIGHT         CC               1   \n",
       "\n",
       "  abnormality type mass shape   mass margins  assessment  pathology  subtlety  \\\n",
       "0             mass  IRREGULAR     SPICULATED           5  MALIGNANT         5   \n",
       "1             mass  IRREGULAR     SPICULATED           5  MALIGNANT         5   \n",
       "2             mass      ROUND  CIRCUMSCRIBED           4  MALIGNANT         4   \n",
       "3             mass      ROUND    ILL_DEFINED           4  MALIGNANT         4   \n",
       "4             mass      ROUND       OBSCURED           0     BENIGN         2   \n",
       "\n",
       "                                     image file path  \\\n",
       "0  Mass-Test_P_00016_LEFT_CC/1.3.6.1.4.1.9590.100...   \n",
       "1  Mass-Test_P_00016_LEFT_MLO/1.3.6.1.4.1.9590.10...   \n",
       "2  Mass-Test_P_00017_LEFT_CC/1.3.6.1.4.1.9590.100...   \n",
       "3  Mass-Test_P_00017_LEFT_MLO/1.3.6.1.4.1.9590.10...   \n",
       "4  Mass-Test_P_00032_RIGHT_CC/1.3.6.1.4.1.9590.10...   \n",
       "\n",
       "                             cropped image file path  \\\n",
       "0  Mass-Test_P_00016_LEFT_CC_1/1.3.6.1.4.1.9590.1...   \n",
       "1  Mass-Test_P_00016_LEFT_MLO_1/1.3.6.1.4.1.9590....   \n",
       "2  Mass-Test_P_00017_LEFT_CC_1/1.3.6.1.4.1.9590.1...   \n",
       "3  Mass-Test_P_00017_LEFT_MLO_1/1.3.6.1.4.1.9590....   \n",
       "4  Mass-Test_P_00032_RIGHT_CC_1/1.3.6.1.4.1.9590....   \n",
       "\n",
       "                                  ROI mask file path  \n",
       "0  Mass-Test_P_00016_LEFT_CC_1/1.3.6.1.4.1.9590.1...  \n",
       "1  Mass-Test_P_00016_LEFT_MLO_1/1.3.6.1.4.1.9590....  \n",
       "2  Mass-Test_P_00017_LEFT_CC_1/1.3.6.1.4.1.9590.1...  \n",
       "3  Mass-Test_P_00017_LEFT_MLO_1/1.3.6.1.4.1.9590....  \n",
       "4  Mass-Test_P_00032_RIGHT_CC_1/1.3.6.1.4.1.9590....  "
      ]
     },
     "execution_count": 3,
     "metadata": {},
     "output_type": "execute_result"
    }
   ],
   "source": [
    "test_df = pd.read_csv('D:/ResearchIdeas/0.BreastCancer/archive/csv/mass_case_description_test_set.csv')\n",
    "test_df = test_df.reset_index(drop=True)\n",
    "test_df.head()"
   ]
  },
  {
   "cell_type": "markdown",
   "id": "a206261e-52fe-4985-bd5c-015c411e8030",
   "metadata": {},
   "source": [
    "### 2. Data preparation and data cleaning"
   ]
  },
  {
   "cell_type": "code",
   "execution_count": 4,
   "id": "a8cd10f8-3b2a-4163-8681-a060e0f8864c",
   "metadata": {},
   "outputs": [
    {
     "data": {
      "text/html": [
       "<div>\n",
       "<style scoped>\n",
       "    .dataframe tbody tr th:only-of-type {\n",
       "        vertical-align: middle;\n",
       "    }\n",
       "\n",
       "    .dataframe tbody tr th {\n",
       "        vertical-align: top;\n",
       "    }\n",
       "\n",
       "    .dataframe thead th {\n",
       "        text-align: right;\n",
       "    }\n",
       "</style>\n",
       "<table border=\"1\" class=\"dataframe\">\n",
       "  <thead>\n",
       "    <tr style=\"text-align: right;\">\n",
       "      <th></th>\n",
       "      <th>breast_density</th>\n",
       "      <th>left or right breast</th>\n",
       "      <th>image view</th>\n",
       "      <th>abnormality id</th>\n",
       "      <th>mass shape</th>\n",
       "      <th>mass margins</th>\n",
       "      <th>assessment</th>\n",
       "      <th>pathology</th>\n",
       "      <th>subtlety</th>\n",
       "    </tr>\n",
       "  </thead>\n",
       "  <tbody>\n",
       "    <tr>\n",
       "      <th>0</th>\n",
       "      <td>3</td>\n",
       "      <td>LEFT</td>\n",
       "      <td>CC</td>\n",
       "      <td>1</td>\n",
       "      <td>IRREGULAR-ARCHITECTURAL_DISTORTION</td>\n",
       "      <td>SPICULATED</td>\n",
       "      <td>4</td>\n",
       "      <td>MALIGNANT</td>\n",
       "      <td>4</td>\n",
       "    </tr>\n",
       "    <tr>\n",
       "      <th>1</th>\n",
       "      <td>3</td>\n",
       "      <td>LEFT</td>\n",
       "      <td>MLO</td>\n",
       "      <td>1</td>\n",
       "      <td>IRREGULAR-ARCHITECTURAL_DISTORTION</td>\n",
       "      <td>SPICULATED</td>\n",
       "      <td>4</td>\n",
       "      <td>MALIGNANT</td>\n",
       "      <td>4</td>\n",
       "    </tr>\n",
       "    <tr>\n",
       "      <th>2</th>\n",
       "      <td>3</td>\n",
       "      <td>LEFT</td>\n",
       "      <td>CC</td>\n",
       "      <td>1</td>\n",
       "      <td>ARCHITECTURAL_DISTORTION</td>\n",
       "      <td>ILL_DEFINED</td>\n",
       "      <td>4</td>\n",
       "      <td>BENIGN</td>\n",
       "      <td>3</td>\n",
       "    </tr>\n",
       "    <tr>\n",
       "      <th>3</th>\n",
       "      <td>3</td>\n",
       "      <td>LEFT</td>\n",
       "      <td>MLO</td>\n",
       "      <td>1</td>\n",
       "      <td>ARCHITECTURAL_DISTORTION</td>\n",
       "      <td>ILL_DEFINED</td>\n",
       "      <td>4</td>\n",
       "      <td>BENIGN</td>\n",
       "      <td>3</td>\n",
       "    </tr>\n",
       "    <tr>\n",
       "      <th>4</th>\n",
       "      <td>3</td>\n",
       "      <td>RIGHT</td>\n",
       "      <td>MLO</td>\n",
       "      <td>1</td>\n",
       "      <td>OVAL</td>\n",
       "      <td>CIRCUMSCRIBED</td>\n",
       "      <td>4</td>\n",
       "      <td>BENIGN</td>\n",
       "      <td>5</td>\n",
       "    </tr>\n",
       "    <tr>\n",
       "      <th>...</th>\n",
       "      <td>...</td>\n",
       "      <td>...</td>\n",
       "      <td>...</td>\n",
       "      <td>...</td>\n",
       "      <td>...</td>\n",
       "      <td>...</td>\n",
       "      <td>...</td>\n",
       "      <td>...</td>\n",
       "      <td>...</td>\n",
       "    </tr>\n",
       "    <tr>\n",
       "      <th>1313</th>\n",
       "      <td>2</td>\n",
       "      <td>RIGHT</td>\n",
       "      <td>MLO</td>\n",
       "      <td>1</td>\n",
       "      <td>IRREGULAR</td>\n",
       "      <td>ILL_DEFINED</td>\n",
       "      <td>3</td>\n",
       "      <td>MALIGNANT</td>\n",
       "      <td>4</td>\n",
       "    </tr>\n",
       "    <tr>\n",
       "      <th>1314</th>\n",
       "      <td>2</td>\n",
       "      <td>RIGHT</td>\n",
       "      <td>CC</td>\n",
       "      <td>1</td>\n",
       "      <td>ROUND</td>\n",
       "      <td>SPICULATED</td>\n",
       "      <td>3</td>\n",
       "      <td>MALIGNANT</td>\n",
       "      <td>5</td>\n",
       "    </tr>\n",
       "    <tr>\n",
       "      <th>1315</th>\n",
       "      <td>2</td>\n",
       "      <td>RIGHT</td>\n",
       "      <td>MLO</td>\n",
       "      <td>1</td>\n",
       "      <td>ROUND</td>\n",
       "      <td>SPICULATED</td>\n",
       "      <td>3</td>\n",
       "      <td>MALIGNANT</td>\n",
       "      <td>5</td>\n",
       "    </tr>\n",
       "    <tr>\n",
       "      <th>1316</th>\n",
       "      <td>2</td>\n",
       "      <td>LEFT</td>\n",
       "      <td>CC</td>\n",
       "      <td>1</td>\n",
       "      <td>IRREGULAR</td>\n",
       "      <td>SPICULATED</td>\n",
       "      <td>3</td>\n",
       "      <td>MALIGNANT</td>\n",
       "      <td>2</td>\n",
       "    </tr>\n",
       "    <tr>\n",
       "      <th>1317</th>\n",
       "      <td>2</td>\n",
       "      <td>LEFT</td>\n",
       "      <td>MLO</td>\n",
       "      <td>1</td>\n",
       "      <td>IRREGULAR</td>\n",
       "      <td>SPICULATED</td>\n",
       "      <td>3</td>\n",
       "      <td>MALIGNANT</td>\n",
       "      <td>2</td>\n",
       "    </tr>\n",
       "  </tbody>\n",
       "</table>\n",
       "<p>1318 rows × 9 columns</p>\n",
       "</div>"
      ],
      "text/plain": [
       "      breast_density left or right breast image view  abnormality id  \\\n",
       "0                  3                 LEFT         CC               1   \n",
       "1                  3                 LEFT        MLO               1   \n",
       "2                  3                 LEFT         CC               1   \n",
       "3                  3                 LEFT        MLO               1   \n",
       "4                  3                RIGHT        MLO               1   \n",
       "...              ...                  ...        ...             ...   \n",
       "1313               2                RIGHT        MLO               1   \n",
       "1314               2                RIGHT         CC               1   \n",
       "1315               2                RIGHT        MLO               1   \n",
       "1316               2                 LEFT         CC               1   \n",
       "1317               2                 LEFT        MLO               1   \n",
       "\n",
       "                              mass shape   mass margins  assessment  \\\n",
       "0     IRREGULAR-ARCHITECTURAL_DISTORTION     SPICULATED           4   \n",
       "1     IRREGULAR-ARCHITECTURAL_DISTORTION     SPICULATED           4   \n",
       "2               ARCHITECTURAL_DISTORTION    ILL_DEFINED           4   \n",
       "3               ARCHITECTURAL_DISTORTION    ILL_DEFINED           4   \n",
       "4                                   OVAL  CIRCUMSCRIBED           4   \n",
       "...                                  ...            ...         ...   \n",
       "1313                           IRREGULAR    ILL_DEFINED           3   \n",
       "1314                               ROUND     SPICULATED           3   \n",
       "1315                               ROUND     SPICULATED           3   \n",
       "1316                           IRREGULAR     SPICULATED           3   \n",
       "1317                           IRREGULAR     SPICULATED           3   \n",
       "\n",
       "      pathology  subtlety  \n",
       "0     MALIGNANT         4  \n",
       "1     MALIGNANT         4  \n",
       "2        BENIGN         3  \n",
       "3        BENIGN         3  \n",
       "4        BENIGN         5  \n",
       "...         ...       ...  \n",
       "1313  MALIGNANT         4  \n",
       "1314  MALIGNANT         5  \n",
       "1315  MALIGNANT         5  \n",
       "1316  MALIGNANT         2  \n",
       "1317  MALIGNANT         2  \n",
       "\n",
       "[1318 rows x 9 columns]"
      ]
     },
     "execution_count": 4,
     "metadata": {},
     "output_type": "execute_result"
    }
   ],
   "source": [
    "train_df = train_df.drop(columns=['patient_id','abnormality type', 'image file path', 'cropped image file path','ROI mask file path'], errors='ignore')\n",
    "test_df = test_df.drop(columns=['patient_id','abnormality type', 'image file path', 'cropped image file path','ROI mask file path'], errors='ignore')\n",
    "\n",
    "train_df"
   ]
  },
  {
   "cell_type": "code",
   "execution_count": 5,
   "id": "f628c326-8f15-47b8-a701-a4a49d0b5499",
   "metadata": {},
   "outputs": [
    {
     "data": {
      "text/html": [
       "<div>\n",
       "<style scoped>\n",
       "    .dataframe tbody tr th:only-of-type {\n",
       "        vertical-align: middle;\n",
       "    }\n",
       "\n",
       "    .dataframe tbody tr th {\n",
       "        vertical-align: top;\n",
       "    }\n",
       "\n",
       "    .dataframe thead th {\n",
       "        text-align: right;\n",
       "    }\n",
       "</style>\n",
       "<table border=\"1\" class=\"dataframe\">\n",
       "  <thead>\n",
       "    <tr style=\"text-align: right;\">\n",
       "      <th></th>\n",
       "      <th>breast_density</th>\n",
       "      <th>left_or_right_breast</th>\n",
       "      <th>image_view</th>\n",
       "      <th>abnormality_id</th>\n",
       "      <th>mass_shape</th>\n",
       "      <th>mass_margins</th>\n",
       "      <th>assessment</th>\n",
       "      <th>pathology</th>\n",
       "      <th>subtlety</th>\n",
       "    </tr>\n",
       "  </thead>\n",
       "  <tbody>\n",
       "    <tr>\n",
       "      <th>0</th>\n",
       "      <td>3</td>\n",
       "      <td>LEFT</td>\n",
       "      <td>CC</td>\n",
       "      <td>1</td>\n",
       "      <td>IRREGULAR-ARCHITECTURAL_DISTORTION</td>\n",
       "      <td>SPICULATED</td>\n",
       "      <td>4</td>\n",
       "      <td>MALIGNANT</td>\n",
       "      <td>4</td>\n",
       "    </tr>\n",
       "    <tr>\n",
       "      <th>1</th>\n",
       "      <td>3</td>\n",
       "      <td>LEFT</td>\n",
       "      <td>MLO</td>\n",
       "      <td>1</td>\n",
       "      <td>IRREGULAR-ARCHITECTURAL_DISTORTION</td>\n",
       "      <td>SPICULATED</td>\n",
       "      <td>4</td>\n",
       "      <td>MALIGNANT</td>\n",
       "      <td>4</td>\n",
       "    </tr>\n",
       "    <tr>\n",
       "      <th>2</th>\n",
       "      <td>3</td>\n",
       "      <td>LEFT</td>\n",
       "      <td>CC</td>\n",
       "      <td>1</td>\n",
       "      <td>ARCHITECTURAL_DISTORTION</td>\n",
       "      <td>ILL_DEFINED</td>\n",
       "      <td>4</td>\n",
       "      <td>BENIGN</td>\n",
       "      <td>3</td>\n",
       "    </tr>\n",
       "    <tr>\n",
       "      <th>3</th>\n",
       "      <td>3</td>\n",
       "      <td>LEFT</td>\n",
       "      <td>MLO</td>\n",
       "      <td>1</td>\n",
       "      <td>ARCHITECTURAL_DISTORTION</td>\n",
       "      <td>ILL_DEFINED</td>\n",
       "      <td>4</td>\n",
       "      <td>BENIGN</td>\n",
       "      <td>3</td>\n",
       "    </tr>\n",
       "    <tr>\n",
       "      <th>4</th>\n",
       "      <td>3</td>\n",
       "      <td>RIGHT</td>\n",
       "      <td>MLO</td>\n",
       "      <td>1</td>\n",
       "      <td>OVAL</td>\n",
       "      <td>CIRCUMSCRIBED</td>\n",
       "      <td>4</td>\n",
       "      <td>BENIGN</td>\n",
       "      <td>5</td>\n",
       "    </tr>\n",
       "  </tbody>\n",
       "</table>\n",
       "</div>"
      ],
      "text/plain": [
       "   breast_density left_or_right_breast image_view  abnormality_id  \\\n",
       "0               3                 LEFT         CC               1   \n",
       "1               3                 LEFT        MLO               1   \n",
       "2               3                 LEFT         CC               1   \n",
       "3               3                 LEFT        MLO               1   \n",
       "4               3                RIGHT        MLO               1   \n",
       "\n",
       "                           mass_shape   mass_margins  assessment  pathology  \\\n",
       "0  IRREGULAR-ARCHITECTURAL_DISTORTION     SPICULATED           4  MALIGNANT   \n",
       "1  IRREGULAR-ARCHITECTURAL_DISTORTION     SPICULATED           4  MALIGNANT   \n",
       "2            ARCHITECTURAL_DISTORTION    ILL_DEFINED           4     BENIGN   \n",
       "3            ARCHITECTURAL_DISTORTION    ILL_DEFINED           4     BENIGN   \n",
       "4                                OVAL  CIRCUMSCRIBED           4     BENIGN   \n",
       "\n",
       "   subtlety  \n",
       "0         4  \n",
       "1         4  \n",
       "2         3  \n",
       "3         3  \n",
       "4         5  "
      ]
     },
     "execution_count": 5,
     "metadata": {},
     "output_type": "execute_result"
    }
   ],
   "source": [
    "def apply_category(train_df, test_df):\n",
    "    # Replace spaces with underscores in column names for both dataframes\n",
    "    train_df.columns = [col.replace(' ', '_') for col in train_df.columns]\n",
    "    test_df.columns = [col.replace(' ', '_') for col in test_df.columns]\n",
    "\n",
    "    # Convert specified columns to 'category' type for both dataframes\n",
    "    categorical_columns = ['left_or_right_breast', 'image_view', 'mass_margins', 'mass_shape', 'pathology']\n",
    "    \n",
    "    for col in categorical_columns:\n",
    "        if col in train_df.columns:\n",
    "            train_df[col] = train_df[col].astype('category')\n",
    "        if col in test_df.columns:\n",
    "            test_df[col] = test_df[col].astype('category')\n",
    "    \n",
    "    return train_df, test_df\n",
    "\n",
    "# Applying the function\n",
    "train_df, test_df = apply_category(train_df, test_df)\n",
    "train_df.head()\n"
   ]
  },
  {
   "cell_type": "code",
   "execution_count": 6,
   "id": "2667ee0e-a004-4874-8f89-5a857882d1d9",
   "metadata": {},
   "outputs": [
    {
     "name": "stdout",
     "output_type": "stream",
     "text": [
      "<class 'pandas.core.frame.DataFrame'>\n",
      "RangeIndex: 1318 entries, 0 to 1317\n",
      "Data columns (total 9 columns):\n",
      " #   Column                Non-Null Count  Dtype   \n",
      "---  ------                --------------  -----   \n",
      " 0   breast_density        1318 non-null   int64   \n",
      " 1   left_or_right_breast  1318 non-null   category\n",
      " 2   image_view            1318 non-null   category\n",
      " 3   abnormality_id        1318 non-null   int64   \n",
      " 4   mass_shape            1314 non-null   category\n",
      " 5   mass_margins          1275 non-null   category\n",
      " 6   assessment            1318 non-null   int64   \n",
      " 7   pathology             1318 non-null   category\n",
      " 8   subtlety              1318 non-null   int64   \n",
      "dtypes: category(5), int64(4)\n",
      "memory usage: 49.5 KB\n"
     ]
    }
   ],
   "source": [
    "train_df.info()"
   ]
  },
  {
   "cell_type": "markdown",
   "id": "9da09c1c-0d89-4e19-972e-2c504b7d00fc",
   "metadata": {},
   "source": [
    "### EDA"
   ]
  },
  {
   "cell_type": "code",
   "execution_count": 7,
   "id": "e5126f9a-6626-44af-9f3b-d9e7e67fb556",
   "metadata": {},
   "outputs": [],
   "source": [
    "from skimpy import skim"
   ]
  },
  {
   "cell_type": "code",
   "execution_count": 8,
   "id": "f4729085",
   "metadata": {},
   "outputs": [
    {
     "data": {
      "text/html": [
       "<pre style=\"white-space:pre;overflow-x:auto;line-height:normal;font-family:Menlo,'DejaVu Sans Mono',consolas,'Courier New',monospace\">╭──────────────────────────────────────────────── skimpy summary ─────────────────────────────────────────────────╮\n",
       "│ <span style=\"font-style: italic\">         Data Summary         </span> <span style=\"font-style: italic\">      Data Types       </span> <span style=\"font-style: italic\">       Categories        </span>                                │\n",
       "│ ┏━━━━━━━━━━━━━━━━━━━┳━━━━━━━━┓ ┏━━━━━━━━━━━━━┳━━━━━━━┓ ┏━━━━━━━━━━━━━━━━━━━━━━━┓                                │\n",
       "│ ┃<span style=\"color: #008080; text-decoration-color: #008080; font-weight: bold\"> dataframe         </span>┃<span style=\"color: #008080; text-decoration-color: #008080; font-weight: bold\"> Values </span>┃ ┃<span style=\"color: #008080; text-decoration-color: #008080; font-weight: bold\"> Column Type </span>┃<span style=\"color: #008080; text-decoration-color: #008080; font-weight: bold\"> Count </span>┃ ┃<span style=\"color: #008080; text-decoration-color: #008080; font-weight: bold\"> Categorical Variables </span>┃                                │\n",
       "│ ┡━━━━━━━━━━━━━━━━━━━╇━━━━━━━━┩ ┡━━━━━━━━━━━━━╇━━━━━━━┩ ┡━━━━━━━━━━━━━━━━━━━━━━━┩                                │\n",
       "│ │ Number of rows    │ 1318   │ │ category    │ 5     │ │ left_or_right_breast  │                                │\n",
       "│ │ Number of columns │ 9      │ │ int32       │ 4     │ │ image_view            │                                │\n",
       "│ └───────────────────┴────────┘ └─────────────┴───────┘ │ mass_shape            │                                │\n",
       "│                                                        │ mass_margins          │                                │\n",
       "│                                                        │ pathology             │                                │\n",
       "│                                                        └───────────────────────┘                                │\n",
       "│ <span style=\"font-style: italic\">                                                    number                                                    </span>  │\n",
       "│ ┏━━━━━━━━━━━━━━━━━━━━━━┳━━━━━━┳━━━━━━━━┳━━━━━━━━━━┳━━━━━━━━━━━┳━━━━━┳━━━━━━━┳━━━━━━━┳━━━━━━┳━━━━━━━┳━━━━━━━━━┓  │\n",
       "│ ┃<span style=\"font-weight: bold\"> column_name          </span>┃<span style=\"font-weight: bold\"> NA   </span>┃<span style=\"font-weight: bold\"> NA %   </span>┃<span style=\"font-weight: bold\"> mean     </span>┃<span style=\"font-weight: bold\"> sd        </span>┃<span style=\"font-weight: bold\"> p0  </span>┃<span style=\"font-weight: bold\"> p25   </span>┃<span style=\"font-weight: bold\"> p50   </span>┃<span style=\"font-weight: bold\"> p75  </span>┃<span style=\"font-weight: bold\"> p100  </span>┃<span style=\"font-weight: bold\"> hist    </span>┃  │\n",
       "│ ┡━━━━━━━━━━━━━━━━━━━━━━╇━━━━━━╇━━━━━━━━╇━━━━━━━━━━╇━━━━━━━━━━━╇━━━━━╇━━━━━━━╇━━━━━━━╇━━━━━━╇━━━━━━━╇━━━━━━━━━┩  │\n",
       "│ │ <span style=\"color: #af87ff; text-decoration-color: #af87ff\">breast_density      </span> │ <span style=\"color: #008080; text-decoration-color: #008080\">   0</span> │ <span style=\"color: #008080; text-decoration-color: #008080\">     0</span> │ <span style=\"color: #008080; text-decoration-color: #008080\">   2.203</span> │ <span style=\"color: #008080; text-decoration-color: #008080\">   0.8738</span> │ <span style=\"color: #008080; text-decoration-color: #008080\">  1</span> │ <span style=\"color: #008080; text-decoration-color: #008080\">    2</span> │ <span style=\"color: #008080; text-decoration-color: #008080\">    2</span> │ <span style=\"color: #008080; text-decoration-color: #008080\">   3</span> │ <span style=\"color: #008080; text-decoration-color: #008080\">    4</span> │ <span style=\"color: #008000; text-decoration-color: #008000\">▃ ▇ ▅▁ </span> │  │\n",
       "│ │ <span style=\"color: #af87ff; text-decoration-color: #af87ff\">abnormality_id      </span> │ <span style=\"color: #008080; text-decoration-color: #008080\">   0</span> │ <span style=\"color: #008080; text-decoration-color: #008080\">     0</span> │ <span style=\"color: #008080; text-decoration-color: #008080\">   1.116</span> │ <span style=\"color: #008080; text-decoration-color: #008080\">    0.467</span> │ <span style=\"color: #008080; text-decoration-color: #008080\">  1</span> │ <span style=\"color: #008080; text-decoration-color: #008080\">    1</span> │ <span style=\"color: #008080; text-decoration-color: #008080\">    1</span> │ <span style=\"color: #008080; text-decoration-color: #008080\">   1</span> │ <span style=\"color: #008080; text-decoration-color: #008080\">    6</span> │ <span style=\"color: #008000; text-decoration-color: #008000\">   ▇   </span> │  │\n",
       "│ │ <span style=\"color: #af87ff; text-decoration-color: #af87ff\">assessment          </span> │ <span style=\"color: #008080; text-decoration-color: #008080\">   0</span> │ <span style=\"color: #008080; text-decoration-color: #008080\">     0</span> │ <span style=\"color: #008080; text-decoration-color: #008080\">   3.505</span> │ <span style=\"color: #008080; text-decoration-color: #008080\">    1.415</span> │ <span style=\"color: #008080; text-decoration-color: #008080\">  0</span> │ <span style=\"color: #008080; text-decoration-color: #008080\">    3</span> │ <span style=\"color: #008080; text-decoration-color: #008080\">    4</span> │ <span style=\"color: #008080; text-decoration-color: #008080\">   4</span> │ <span style=\"color: #008080; text-decoration-color: #008080\">    5</span> │ <span style=\"color: #008000; text-decoration-color: #008000\">▂ ▁▅▇▅ </span> │  │\n",
       "│ │ <span style=\"color: #af87ff; text-decoration-color: #af87ff\">subtlety            </span> │ <span style=\"color: #008080; text-decoration-color: #008080\">   0</span> │ <span style=\"color: #008080; text-decoration-color: #008080\">     0</span> │ <span style=\"color: #008080; text-decoration-color: #008080\">   3.966</span> │ <span style=\"color: #008080; text-decoration-color: #008080\">    1.102</span> │ <span style=\"color: #008080; text-decoration-color: #008080\">  0</span> │ <span style=\"color: #008080; text-decoration-color: #008080\">    3</span> │ <span style=\"color: #008080; text-decoration-color: #008080\">    4</span> │ <span style=\"color: #008080; text-decoration-color: #008080\">   5</span> │ <span style=\"color: #008080; text-decoration-color: #008080\">    5</span> │ <span style=\"color: #008000; text-decoration-color: #008000\"> ▁▁▃▆▇ </span> │  │\n",
       "│ └──────────────────────┴──────┴────────┴──────────┴───────────┴─────┴───────┴───────┴──────┴───────┴─────────┘  │\n",
       "│ <span style=\"font-style: italic\">                                                   category                                                   </span>  │\n",
       "│ ┏━━━━━━━━━━━━━━━━━━━━━━━━━━━━━━━━━━━━━━━━━━━━━━━┳━━━━━━━━━┳━━━━━━━━━━━━━┳━━━━━━━━━━━━━━━━━━━┳━━━━━━━━━━━━━━━━┓  │\n",
       "│ ┃<span style=\"font-weight: bold\"> column_name                                   </span>┃<span style=\"font-weight: bold\"> NA      </span>┃<span style=\"font-weight: bold\"> NA %        </span>┃<span style=\"font-weight: bold\"> ordered           </span>┃<span style=\"font-weight: bold\"> unique         </span>┃  │\n",
       "│ ┡━━━━━━━━━━━━━━━━━━━━━━━━━━━━━━━━━━━━━━━━━━━━━━━╇━━━━━━━━━╇━━━━━━━━━━━━━╇━━━━━━━━━━━━━━━━━━━╇━━━━━━━━━━━━━━━━┩  │\n",
       "│ │ <span style=\"color: #af87ff; text-decoration-color: #af87ff\">left_or_right_breast                         </span> │ <span style=\"color: #008080; text-decoration-color: #008080\">      0</span> │ <span style=\"color: #008080; text-decoration-color: #008080\">          0</span> │ <span style=\"color: #00d7ff; text-decoration-color: #00d7ff\">False            </span> │ <span style=\"color: #008080; text-decoration-color: #008080\">             2</span> │  │\n",
       "│ │ <span style=\"color: #af87ff; text-decoration-color: #af87ff\">image_view                                   </span> │ <span style=\"color: #008080; text-decoration-color: #008080\">      0</span> │ <span style=\"color: #008080; text-decoration-color: #008080\">          0</span> │ <span style=\"color: #00d7ff; text-decoration-color: #00d7ff\">False            </span> │ <span style=\"color: #008080; text-decoration-color: #008080\">             2</span> │  │\n",
       "│ │ <span style=\"color: #af87ff; text-decoration-color: #af87ff\">mass_shape                                   </span> │ <span style=\"color: #008080; text-decoration-color: #008080\">      4</span> │ <span style=\"color: #008080; text-decoration-color: #008080\">        0.3</span> │ <span style=\"color: #00d7ff; text-decoration-color: #00d7ff\">False            </span> │ <span style=\"color: #008080; text-decoration-color: #008080\">            19</span> │  │\n",
       "│ │ <span style=\"color: #af87ff; text-decoration-color: #af87ff\">mass_margins                                 </span> │ <span style=\"color: #008080; text-decoration-color: #008080\">     43</span> │ <span style=\"color: #008080; text-decoration-color: #008080\">       3.26</span> │ <span style=\"color: #00d7ff; text-decoration-color: #00d7ff\">False            </span> │ <span style=\"color: #008080; text-decoration-color: #008080\">            16</span> │  │\n",
       "│ │ <span style=\"color: #af87ff; text-decoration-color: #af87ff\">pathology                                    </span> │ <span style=\"color: #008080; text-decoration-color: #008080\">      0</span> │ <span style=\"color: #008080; text-decoration-color: #008080\">          0</span> │ <span style=\"color: #00d7ff; text-decoration-color: #00d7ff\">False            </span> │ <span style=\"color: #008080; text-decoration-color: #008080\">             3</span> │  │\n",
       "│ └───────────────────────────────────────────────┴─────────┴─────────────┴───────────────────┴────────────────┘  │\n",
       "╰────────────────────────────────────────────────────── End ──────────────────────────────────────────────────────╯\n",
       "</pre>\n"
      ],
      "text/plain": [
       "╭──────────────────────────────────────────────── skimpy summary ─────────────────────────────────────────────────╮\n",
       "│ \u001b[3m         Data Summary         \u001b[0m \u001b[3m      Data Types       \u001b[0m \u001b[3m       Categories        \u001b[0m                                │\n",
       "│ ┏━━━━━━━━━━━━━━━━━━━┳━━━━━━━━┓ ┏━━━━━━━━━━━━━┳━━━━━━━┓ ┏━━━━━━━━━━━━━━━━━━━━━━━┓                                │\n",
       "│ ┃\u001b[1;36m \u001b[0m\u001b[1;36mdataframe        \u001b[0m\u001b[1;36m \u001b[0m┃\u001b[1;36m \u001b[0m\u001b[1;36mValues\u001b[0m\u001b[1;36m \u001b[0m┃ ┃\u001b[1;36m \u001b[0m\u001b[1;36mColumn Type\u001b[0m\u001b[1;36m \u001b[0m┃\u001b[1;36m \u001b[0m\u001b[1;36mCount\u001b[0m\u001b[1;36m \u001b[0m┃ ┃\u001b[1;36m \u001b[0m\u001b[1;36mCategorical Variables\u001b[0m\u001b[1;36m \u001b[0m┃                                │\n",
       "│ ┡━━━━━━━━━━━━━━━━━━━╇━━━━━━━━┩ ┡━━━━━━━━━━━━━╇━━━━━━━┩ ┡━━━━━━━━━━━━━━━━━━━━━━━┩                                │\n",
       "│ │ Number of rows    │ 1318   │ │ category    │ 5     │ │ left_or_right_breast  │                                │\n",
       "│ │ Number of columns │ 9      │ │ int32       │ 4     │ │ image_view            │                                │\n",
       "│ └───────────────────┴────────┘ └─────────────┴───────┘ │ mass_shape            │                                │\n",
       "│                                                        │ mass_margins          │                                │\n",
       "│                                                        │ pathology             │                                │\n",
       "│                                                        └───────────────────────┘                                │\n",
       "│ \u001b[3m                                                    number                                                    \u001b[0m  │\n",
       "│ ┏━━━━━━━━━━━━━━━━━━━━━━┳━━━━━━┳━━━━━━━━┳━━━━━━━━━━┳━━━━━━━━━━━┳━━━━━┳━━━━━━━┳━━━━━━━┳━━━━━━┳━━━━━━━┳━━━━━━━━━┓  │\n",
       "│ ┃\u001b[1m \u001b[0m\u001b[1mcolumn_name         \u001b[0m\u001b[1m \u001b[0m┃\u001b[1m \u001b[0m\u001b[1mNA  \u001b[0m\u001b[1m \u001b[0m┃\u001b[1m \u001b[0m\u001b[1mNA %  \u001b[0m\u001b[1m \u001b[0m┃\u001b[1m \u001b[0m\u001b[1mmean    \u001b[0m\u001b[1m \u001b[0m┃\u001b[1m \u001b[0m\u001b[1msd       \u001b[0m\u001b[1m \u001b[0m┃\u001b[1m \u001b[0m\u001b[1mp0 \u001b[0m\u001b[1m \u001b[0m┃\u001b[1m \u001b[0m\u001b[1mp25  \u001b[0m\u001b[1m \u001b[0m┃\u001b[1m \u001b[0m\u001b[1mp50  \u001b[0m\u001b[1m \u001b[0m┃\u001b[1m \u001b[0m\u001b[1mp75 \u001b[0m\u001b[1m \u001b[0m┃\u001b[1m \u001b[0m\u001b[1mp100 \u001b[0m\u001b[1m \u001b[0m┃\u001b[1m \u001b[0m\u001b[1mhist   \u001b[0m\u001b[1m \u001b[0m┃  │\n",
       "│ ┡━━━━━━━━━━━━━━━━━━━━━━╇━━━━━━╇━━━━━━━━╇━━━━━━━━━━╇━━━━━━━━━━━╇━━━━━╇━━━━━━━╇━━━━━━━╇━━━━━━╇━━━━━━━╇━━━━━━━━━┩  │\n",
       "│ │ \u001b[38;5;141mbreast_density      \u001b[0m │ \u001b[36m   0\u001b[0m │ \u001b[36m     0\u001b[0m │ \u001b[36m   2.203\u001b[0m │ \u001b[36m   0.8738\u001b[0m │ \u001b[36m  1\u001b[0m │ \u001b[36m    2\u001b[0m │ \u001b[36m    2\u001b[0m │ \u001b[36m   3\u001b[0m │ \u001b[36m    4\u001b[0m │ \u001b[32m▃ ▇ ▅▁ \u001b[0m │  │\n",
       "│ │ \u001b[38;5;141mabnormality_id      \u001b[0m │ \u001b[36m   0\u001b[0m │ \u001b[36m     0\u001b[0m │ \u001b[36m   1.116\u001b[0m │ \u001b[36m    0.467\u001b[0m │ \u001b[36m  1\u001b[0m │ \u001b[36m    1\u001b[0m │ \u001b[36m    1\u001b[0m │ \u001b[36m   1\u001b[0m │ \u001b[36m    6\u001b[0m │ \u001b[32m   ▇   \u001b[0m │  │\n",
       "│ │ \u001b[38;5;141massessment          \u001b[0m │ \u001b[36m   0\u001b[0m │ \u001b[36m     0\u001b[0m │ \u001b[36m   3.505\u001b[0m │ \u001b[36m    1.415\u001b[0m │ \u001b[36m  0\u001b[0m │ \u001b[36m    3\u001b[0m │ \u001b[36m    4\u001b[0m │ \u001b[36m   4\u001b[0m │ \u001b[36m    5\u001b[0m │ \u001b[32m▂ ▁▅▇▅ \u001b[0m │  │\n",
       "│ │ \u001b[38;5;141msubtlety            \u001b[0m │ \u001b[36m   0\u001b[0m │ \u001b[36m     0\u001b[0m │ \u001b[36m   3.966\u001b[0m │ \u001b[36m    1.102\u001b[0m │ \u001b[36m  0\u001b[0m │ \u001b[36m    3\u001b[0m │ \u001b[36m    4\u001b[0m │ \u001b[36m   5\u001b[0m │ \u001b[36m    5\u001b[0m │ \u001b[32m ▁▁▃▆▇ \u001b[0m │  │\n",
       "│ └──────────────────────┴──────┴────────┴──────────┴───────────┴─────┴───────┴───────┴──────┴───────┴─────────┘  │\n",
       "│ \u001b[3m                                                   category                                                   \u001b[0m  │\n",
       "│ ┏━━━━━━━━━━━━━━━━━━━━━━━━━━━━━━━━━━━━━━━━━━━━━━━┳━━━━━━━━━┳━━━━━━━━━━━━━┳━━━━━━━━━━━━━━━━━━━┳━━━━━━━━━━━━━━━━┓  │\n",
       "│ ┃\u001b[1m \u001b[0m\u001b[1mcolumn_name                                  \u001b[0m\u001b[1m \u001b[0m┃\u001b[1m \u001b[0m\u001b[1mNA     \u001b[0m\u001b[1m \u001b[0m┃\u001b[1m \u001b[0m\u001b[1mNA %       \u001b[0m\u001b[1m \u001b[0m┃\u001b[1m \u001b[0m\u001b[1mordered          \u001b[0m\u001b[1m \u001b[0m┃\u001b[1m \u001b[0m\u001b[1munique        \u001b[0m\u001b[1m \u001b[0m┃  │\n",
       "│ ┡━━━━━━━━━━━━━━━━━━━━━━━━━━━━━━━━━━━━━━━━━━━━━━━╇━━━━━━━━━╇━━━━━━━━━━━━━╇━━━━━━━━━━━━━━━━━━━╇━━━━━━━━━━━━━━━━┩  │\n",
       "│ │ \u001b[38;5;141mleft_or_right_breast                         \u001b[0m │ \u001b[36m      0\u001b[0m │ \u001b[36m          0\u001b[0m │ \u001b[38;5;45mFalse            \u001b[0m │ \u001b[36m             2\u001b[0m │  │\n",
       "│ │ \u001b[38;5;141mimage_view                                   \u001b[0m │ \u001b[36m      0\u001b[0m │ \u001b[36m          0\u001b[0m │ \u001b[38;5;45mFalse            \u001b[0m │ \u001b[36m             2\u001b[0m │  │\n",
       "│ │ \u001b[38;5;141mmass_shape                                   \u001b[0m │ \u001b[36m      4\u001b[0m │ \u001b[36m        0.3\u001b[0m │ \u001b[38;5;45mFalse            \u001b[0m │ \u001b[36m            19\u001b[0m │  │\n",
       "│ │ \u001b[38;5;141mmass_margins                                 \u001b[0m │ \u001b[36m     43\u001b[0m │ \u001b[36m       3.26\u001b[0m │ \u001b[38;5;45mFalse            \u001b[0m │ \u001b[36m            16\u001b[0m │  │\n",
       "│ │ \u001b[38;5;141mpathology                                    \u001b[0m │ \u001b[36m      0\u001b[0m │ \u001b[36m          0\u001b[0m │ \u001b[38;5;45mFalse            \u001b[0m │ \u001b[36m             3\u001b[0m │  │\n",
       "│ └───────────────────────────────────────────────┴─────────┴─────────────┴───────────────────┴────────────────┘  │\n",
       "╰────────────────────────────────────────────────────── End ──────────────────────────────────────────────────────╯\n"
      ]
     },
     "metadata": {},
     "output_type": "display_data"
    }
   ],
   "source": [
    "skim(train_df)"
   ]
  },
  {
   "cell_type": "code",
   "execution_count": 9,
   "id": "a6652798-7ba3-4017-b19a-7a65b09a862a",
   "metadata": {},
   "outputs": [
    {
     "name": "stdout",
     "output_type": "stream",
     "text": [
      "breast_density          0\n",
      "left_or_right_breast    0\n",
      "image_view              0\n",
      "abnormality_id          0\n",
      "mass_shape              0\n",
      "mass_margins            0\n",
      "assessment              0\n",
      "pathology               0\n",
      "subtlety                0\n",
      "dtype: int64\n"
     ]
    }
   ],
   "source": [
    "train_df['mass_shape'] = train_df['mass_shape'].bfill()\n",
    "train_df['mass_margins'] = train_df['mass_margins'].bfill()\n",
    "\n",
    "test_df['mass_margins'] = test_df['mass_margins'].bfill()\n",
    "\n",
    "print(train_df.isna().sum())"
   ]
  },
  {
   "cell_type": "markdown",
   "id": "8c498e02-47f1-4121-ae3e-f7d8e13509a3",
   "metadata": {},
   "source": [
    "bfill-backward fill, missing values will be filled with the next valid (non-NaN) value found below "
   ]
  },
  {
   "cell_type": "code",
   "execution_count": 10,
   "id": "87f6d467-ce50-4a45-bbe3-4dff99672b32",
   "metadata": {},
   "outputs": [],
   "source": [
    "numerical = ['breast_density','abnormality_id','assessment','subtlety']\n",
    "categorical = ['left_or_right_breast','image_view','mass_shape','mass_margins']"
   ]
  },
  {
   "cell_type": "code",
   "execution_count": 11,
   "id": "58ad7e70-01e9-476d-8ee9-f28c8680d12b",
   "metadata": {},
   "outputs": [
    {
     "data": {
      "text/plain": [
       "subtlety\n",
       "5    543\n",
       "4    375\n",
       "3    257\n",
       "2    100\n",
       "1     41\n",
       "0      2\n",
       "Name: count, dtype: int64"
      ]
     },
     "execution_count": 11,
     "metadata": {},
     "output_type": "execute_result"
    }
   ],
   "source": [
    "subtlety_counts = train_df['subtlety'].value_counts()\n",
    "subtlety_counts "
   ]
  },
  {
   "cell_type": "code",
   "execution_count": 12,
   "id": "fe19a59c-7c59-4987-a239-8dc75249b84f",
   "metadata": {},
   "outputs": [
    {
     "name": "stdout",
     "output_type": "stream",
     "text": [
      "subtlety\n",
      "5    543\n",
      "4    375\n",
      "3    257\n",
      "2    100\n",
      "1     41\n",
      "Name: count, dtype: int64\n"
     ]
    }
   ],
   "source": [
    "valid_subtlety = subtlety_counts[subtlety_counts >= 41].index\n",
    "\n",
    "# Filter train_df to include only rows with valid abnormality_id\n",
    "train_df = train_df[train_df['subtlety'].isin(valid_subtlety)]\n",
    "\n",
    "# Reset the index after filtering\n",
    "train_df = train_df.reset_index(drop=True)\n",
    "\n",
    "# Check the counts of the abnormality_id after filtering\n",
    "print(train_df['subtlety'].value_counts())"
   ]
  },
  {
   "cell_type": "code",
   "execution_count": 13,
   "id": "59d31213-5076-4443-874d-2abf78a2b8ba",
   "metadata": {},
   "outputs": [
    {
     "data": {
      "text/plain": [
       "abnormality_id\n",
       "1    1214\n",
       "2      68\n",
       "3      23\n",
       "4       7\n",
       "5       2\n",
       "6       2\n",
       "Name: count, dtype: int64"
      ]
     },
     "execution_count": 13,
     "metadata": {},
     "output_type": "execute_result"
    }
   ],
   "source": [
    "# Calculate the counts of each unique value in abnormality_id\n",
    "abnormality_counts = train_df['abnormality_id'].value_counts()\n",
    "abnormality_counts"
   ]
  },
  {
   "cell_type": "code",
   "execution_count": 14,
   "id": "8e65794f-43c9-460e-9013-91b350bb9222",
   "metadata": {},
   "outputs": [
    {
     "name": "stdout",
     "output_type": "stream",
     "text": [
      "abnormality_id\n",
      "1    1214\n",
      "2      68\n",
      "3      23\n",
      "Name: count, dtype: int64\n"
     ]
    }
   ],
   "source": [
    "# Get the values that meet the threshold of > 7\n",
    "valid_abnormalities = abnormality_counts[abnormality_counts > 7].index\n",
    "\n",
    "# Filter train_df to include only rows with valid abnormality_id\n",
    "train_df = train_df[train_df['abnormality_id'].isin(valid_abnormalities)]\n",
    "\n",
    "# Reset the index after filtering\n",
    "train_df = train_df.reset_index(drop=True)\n",
    "\n",
    "# Check the counts of the abnormality_id after filtering\n",
    "print(train_df['abnormality_id'].value_counts())"
   ]
  },
  {
   "cell_type": "code",
   "execution_count": 15,
   "id": "0e1e4373-efc0-4b8f-849e-6f85e1e657ce",
   "metadata": {},
   "outputs": [
    {
     "data": {
      "text/plain": [
       "mass_shape\n",
       "IRREGULAR                                   351\n",
       "OVAL                                        323\n",
       "LOBULATED                                   304\n",
       "ROUND                                       118\n",
       "ARCHITECTURAL_DISTORTION                     80\n",
       "IRREGULAR-ARCHITECTURAL_DISTORTION           45\n",
       "LYMPH_NODE                                   22\n",
       "ASYMMETRIC_BREAST_TISSUE                     20\n",
       "FOCAL_ASYMMETRIC_DENSITY                     19\n",
       "OVAL-LYMPH_NODE                               5\n",
       "LOBULATED-IRREGULAR                           5\n",
       "LOBULATED-LYMPH_NODE                          3\n",
       "ROUND-OVAL                                    3\n",
       "LOBULATED-ARCHITECTURAL_DISTORTION            2\n",
       "IRREGULAR-FOCAL_ASYMMETRIC_DENSITY            2\n",
       "LOBULATED-OVAL                                1\n",
       "ROUND-IRREGULAR-ARCHITECTURAL_DISTORTION      1\n",
       "ROUND-LOBULATED                               1\n",
       "Name: count, dtype: int64"
      ]
     },
     "execution_count": 15,
     "metadata": {},
     "output_type": "execute_result"
    }
   ],
   "source": [
    "mass_shape_counts = train_df['mass_shape'].value_counts()\n",
    "mass_shape_counts"
   ]
  },
  {
   "cell_type": "code",
   "execution_count": 16,
   "id": "df21f424-e6cb-464a-b66d-3833684b451a",
   "metadata": {},
   "outputs": [
    {
     "name": "stdout",
     "output_type": "stream",
     "text": [
      "mass_shape\n",
      "IRREGULAR                             351\n",
      "OVAL                                  323\n",
      "LOBULATED                             304\n",
      "ROUND                                 118\n",
      "ARCHITECTURAL_DISTORTION               80\n",
      "IRREGULAR-ARCHITECTURAL_DISTORTION     45\n",
      "LYMPH_NODE                             22\n",
      "ASYMMETRIC_BREAST_TISSUE               20\n",
      "FOCAL_ASYMMETRIC_DENSITY               19\n",
      "Name: count, dtype: int64\n"
     ]
    }
   ],
   "source": [
    "# Keep only the values with counts >= 19\n",
    "valid_mass_shapes = mass_shape_counts[mass_shape_counts >= 19].index\n",
    "\n",
    "train_df['mass_shape'] = train_df['mass_shape'].str.strip()\n",
    "\n",
    "# Filter the DataFrame to include only rows with valid mass shapes\n",
    "train_df = train_df.loc[train_df['mass_shape'].isin(valid_mass_shapes)]\n",
    "\n",
    "# Reset the index after filtering\n",
    "train_df = train_df.reset_index(drop=True)\n",
    "\n",
    "print(train_df['mass_shape'].value_counts())"
   ]
  },
  {
   "cell_type": "code",
   "execution_count": 17,
   "id": "a5a3cfa9-6a00-4591-a28e-e5cd04ca2ece",
   "metadata": {},
   "outputs": [
    {
     "data": {
      "text/plain": [
       "mass_margins\n",
       "SPICULATED                               299\n",
       "CIRCUMSCRIBED                            285\n",
       "ILL_DEFINED                              284\n",
       "OBSCURED                                 201\n",
       "MICROLOBULATED                           113\n",
       "CIRCUMSCRIBED-ILL_DEFINED                 27\n",
       "ILL_DEFINED-SPICULATED                    26\n",
       "CIRCUMSCRIBED-OBSCURED                    16\n",
       "OBSCURED-ILL_DEFINED                      16\n",
       "OBSCURED-ILL_DEFINED-SPICULATED            4\n",
       "OBSCURED-SPICULATED                        4\n",
       "CIRCUMSCRIBED-MICROLOBULATED               2\n",
       "MICROLOBULATED-ILL_DEFINED                 2\n",
       "MICROLOBULATED-ILL_DEFINED-SPICULATED      2\n",
       "MICROLOBULATED-SPICULATED                  1\n",
       "Name: count, dtype: int64"
      ]
     },
     "execution_count": 17,
     "metadata": {},
     "output_type": "execute_result"
    }
   ],
   "source": [
    "mass_margins_counts = train_df['mass_margins'].value_counts()\n",
    "mass_margins_counts"
   ]
  },
  {
   "cell_type": "code",
   "execution_count": 18,
   "id": "bf408333-4c9d-4d04-bb20-1cbe789fba49",
   "metadata": {},
   "outputs": [
    {
     "name": "stdout",
     "output_type": "stream",
     "text": [
      "Updated counts of mass_margins:\n",
      "mass_margins\n",
      "SPICULATED                   299\n",
      "CIRCUMSCRIBED                285\n",
      "ILL_DEFINED                  284\n",
      "OBSCURED                     201\n",
      "MICROLOBULATED               113\n",
      "CIRCUMSCRIBED-ILL_DEFINED     27\n",
      "ILL_DEFINED-SPICULATED        26\n",
      "Name: count, dtype: int64\n"
     ]
    }
   ],
   "source": [
    "# Keep only the values with counts >= 16\n",
    "valid_mass_margins = mass_margins_counts[mass_margins_counts >= 26].index\n",
    "\n",
    "# Remove any leading/trailing whitespaces from mass_margins\n",
    "train_df['mass_margins'] = train_df['mass_margins'].str.strip()\n",
    "\n",
    "# Filter the DataFrame to include only rows with valid mass margins\n",
    "train_df = train_df.loc[train_df['mass_margins'].isin(valid_mass_margins)]\n",
    "\n",
    "# Reset the index after filtering\n",
    "train_df = train_df.reset_index(drop=True)\n",
    "\n",
    "# Check the updated counts of mass_margins values\n",
    "print(\"Updated counts of mass_margins:\")\n",
    "print(train_df['mass_margins'].value_counts())"
   ]
  },
  {
   "cell_type": "code",
   "execution_count": 19,
   "id": "e0de4f50-8260-45c7-9138-e9d4fd47d992",
   "metadata": {},
   "outputs": [
    {
     "name": "stdout",
     "output_type": "stream",
     "text": [
      "(1235, 9)\n"
     ]
    }
   ],
   "source": [
    "print(train_df.shape)"
   ]
  },
  {
   "cell_type": "code",
   "execution_count": 20,
   "id": "a1581993-e5c1-4edf-bc4b-3cd1c7796aab",
   "metadata": {},
   "outputs": [
    {
     "name": "stdout",
     "output_type": "stream",
     "text": [
      "breast_density\n",
      "2    556\n",
      "3    306\n",
      "1    272\n",
      "4    101\n",
      "Name: count, dtype: int64\n",
      "\n",
      "left_or_right_breast\n",
      "RIGHT    636\n",
      "LEFT     599\n",
      "Name: count, dtype: int64\n",
      "\n",
      "image_view\n",
      "MLO    662\n",
      "CC     573\n",
      "Name: count, dtype: int64\n",
      "\n",
      "abnormality_id\n",
      "1    1147\n",
      "2      66\n",
      "3      22\n",
      "Name: count, dtype: int64\n",
      "\n",
      "mass_shape\n",
      "IRREGULAR                             337\n",
      "OVAL                                  312\n",
      "LOBULATED                             295\n",
      "ROUND                                 117\n",
      "ARCHITECTURAL_DISTORTION               80\n",
      "IRREGULAR-ARCHITECTURAL_DISTORTION     34\n",
      "LYMPH_NODE                             22\n",
      "ASYMMETRIC_BREAST_TISSUE               20\n",
      "FOCAL_ASYMMETRIC_DENSITY               18\n",
      "Name: count, dtype: int64\n",
      "\n",
      "mass_margins\n",
      "SPICULATED                   299\n",
      "CIRCUMSCRIBED                285\n",
      "ILL_DEFINED                  284\n",
      "OBSCURED                     201\n",
      "MICROLOBULATED               113\n",
      "CIRCUMSCRIBED-ILL_DEFINED     27\n",
      "ILL_DEFINED-SPICULATED        26\n",
      "Name: count, dtype: int64\n",
      "\n",
      "assessment\n",
      "4    495\n",
      "5    297\n",
      "3    259\n",
      "0    127\n",
      "2     56\n",
      "1      1\n",
      "Name: count, dtype: int64\n",
      "\n",
      "pathology\n",
      "MALIGNANT                  604\n",
      "BENIGN                     541\n",
      "BENIGN_WITHOUT_CALLBACK     90\n",
      "Name: count, dtype: int64\n",
      "\n",
      "subtlety\n",
      "5    529\n",
      "4    347\n",
      "3    232\n",
      "2     88\n",
      "1     39\n",
      "Name: count, dtype: int64\n",
      "\n"
     ]
    }
   ],
   "source": [
    "unique_value_counts = {}\n",
    "\n",
    "for column in train_df.columns:\n",
    "    value_counts = train_df[column].value_counts()\n",
    "    \n",
    "    # Store the results in the dictionary\n",
    "    unique_value_counts[column] = value_counts\n",
    "\n",
    "# Display the unique values and their counts\n",
    "for column, counts in unique_value_counts.items():\n",
    "    print(counts)\n",
    "    print()  "
   ]
  },
  {
   "cell_type": "code",
   "execution_count": 21,
   "id": "49cc413f-8cd8-4509-9565-a3c8480ea788",
   "metadata": {},
   "outputs": [
    {
     "name": "stderr",
     "output_type": "stream",
     "text": [
      "C:\\Users\\admin\\AppData\\Local\\Temp\\ipykernel_17812\\4001861930.py:9: SettingWithCopyWarning: \n",
      "A value is trying to be set on a copy of a slice from a DataFrame.\n",
      "Try using .loc[row_indexer,col_indexer] = value instead\n",
      "\n",
      "See the caveats in the documentation: https://pandas.pydata.org/pandas-docs/stable/user_guide/indexing.html#returning-a-view-versus-a-copy\n",
      "  df['mass_shape'] = df['mass_shape'].str.strip()\n"
     ]
    }
   ],
   "source": [
    "def preprocess_dataframe(df, valid_mass_shapes, valid_mass_margins):\n",
    "    \n",
    "    # 2. Filter abnormality_id\n",
    "    abnormality_counts = df['abnormality_id'].value_counts()\n",
    "    valid_abnormalities = abnormality_counts[abnormality_counts >= 5].index\n",
    "    df = df[df['abnormality_id'].isin(valid_abnormalities)]\n",
    "    \n",
    "    # 1. Filter mass_shape\n",
    "    df['mass_shape'] = df['mass_shape'].str.strip()\n",
    "    df = df[df['mass_shape'].isin(valid_mass_shapes)]\n",
    "    \n",
    "    # 2. Filter mass_margins\n",
    "    df['mass_margins'] = df['mass_margins'].str.strip()\n",
    "    df = df[df['mass_margins'].isin(valid_mass_margins)]\n",
    "    \n",
    "    # Reset the index after filtering\n",
    "    df = df.reset_index(drop=True)\n",
    "    \n",
    "    return df\n",
    "\n",
    "test_df = preprocess_dataframe(test_df, valid_mass_shapes, valid_mass_margins)"
   ]
  },
  {
   "cell_type": "code",
   "execution_count": 22,
   "id": "c8d2b754",
   "metadata": {},
   "outputs": [
    {
     "name": "stdout",
     "output_type": "stream",
     "text": [
      "breast_density\n",
      "2    152\n",
      "3    103\n",
      "1     47\n",
      "4     41\n",
      "Name: count, dtype: int64\n",
      "\n",
      "left_or_right_breast\n",
      "RIGHT    174\n",
      "LEFT     169\n",
      "Name: count, dtype: int64\n",
      "\n",
      "image_view\n",
      "MLO    187\n",
      "CC     156\n",
      "Name: count, dtype: int64\n",
      "\n",
      "abnormality_id\n",
      "1    325\n",
      "2     13\n",
      "3      5\n",
      "Name: count, dtype: int64\n",
      "\n",
      "mass_shape\n",
      "IRREGULAR                             104\n",
      "OVAL                                   84\n",
      "LOBULATED                              74\n",
      "ROUND                                  40\n",
      "ARCHITECTURAL_DISTORTION               22\n",
      "IRREGULAR-ARCHITECTURAL_DISTORTION      6\n",
      "FOCAL_ASYMMETRIC_DENSITY                6\n",
      "ASYMMETRIC_BREAST_TISSUE                5\n",
      "LYMPH_NODE                              2\n",
      "Name: count, dtype: int64\n",
      "\n",
      "mass_margins\n",
      "ILL_DEFINED                  95\n",
      "CIRCUMSCRIBED                89\n",
      "SPICULATED                   81\n",
      "OBSCURED                     51\n",
      "MICROLOBULATED               20\n",
      "ILL_DEFINED-SPICULATED        5\n",
      "CIRCUMSCRIBED-ILL_DEFINED     2\n",
      "Name: count, dtype: int64\n",
      "\n",
      "assessment\n",
      "4    157\n",
      "3     77\n",
      "5     69\n",
      "0     33\n",
      "2      6\n",
      "1      1\n",
      "Name: count, dtype: int64\n",
      "\n",
      "pathology\n",
      "BENIGN                     180\n",
      "MALIGNANT                  134\n",
      "BENIGN_WITHOUT_CALLBACK     29\n",
      "Name: count, dtype: int64\n",
      "\n",
      "subtlety\n",
      "5    136\n",
      "3     88\n",
      "4     69\n",
      "2     36\n",
      "1     14\n",
      "Name: count, dtype: int64\n",
      "\n"
     ]
    }
   ],
   "source": [
    "# Initialize a dictionary to hold the unique values and their counts\n",
    "unique_value_counts = {}\n",
    "\n",
    "# Loop through each column in the DataFrame\n",
    "for column in test_df.columns:\n",
    "    # Get the unique values and their counts for the current column\n",
    "    value_counts = test_df[column].value_counts()\n",
    "    \n",
    "    # Store the results in the dictionary\n",
    "    unique_value_counts[column] = value_counts\n",
    "\n",
    "# Display the unique values and their counts\n",
    "for column, counts in unique_value_counts.items():\n",
    "    print(counts)\n",
    "    print()  # Blank line for better readability"
   ]
  },
  {
   "cell_type": "code",
   "execution_count": 23,
   "id": "bf17347b",
   "metadata": {},
   "outputs": [
    {
     "data": {
      "text/plain": [
       "pathology\n",
       "MALIGNANT                  0.489069\n",
       "BENIGN                     0.438057\n",
       "BENIGN_WITHOUT_CALLBACK    0.072874\n",
       "Name: proportion, dtype: float64"
      ]
     },
     "execution_count": 23,
     "metadata": {},
     "output_type": "execute_result"
    }
   ],
   "source": [
    "train_df.pathology.value_counts(normalize=True)"
   ]
  },
  {
   "cell_type": "code",
   "execution_count": 24,
   "id": "8af7a92a-0c7b-4eb2-bdd6-cf343ad482fa",
   "metadata": {},
   "outputs": [
    {
     "data": {
      "text/plain": [
       "pathology\n",
       "0    0.510931\n",
       "1    0.489069\n",
       "Name: proportion, dtype: float64"
      ]
     },
     "execution_count": 24,
     "metadata": {},
     "output_type": "execute_result"
    }
   ],
   "source": [
    "def map_pathology(train_df, test_df):\n",
    "    # Normalize 'pathology' column by converting categories to strings, stripping spaces, and making uppercase\n",
    "    for df in [train_df, test_df]:\n",
    "        # Convert the 'pathology' column to string first, then apply string functions\n",
    "        df['pathology'] = df['pathology'].astype(str).str.strip().str.upper()\n",
    "\n",
    "        # Apply the mapping for pathology\n",
    "        df['pathology'] = df['pathology'].map({\n",
    "            'MALIGNANT': 1,\n",
    "            'BENIGN': 0,\n",
    "            'BENIGN_WITHOUT_CALLBACK': 0\n",
    "        })\n",
    "\n",
    "        # Check for any unmapped or NaN values in 'pathology' column\n",
    "        if df['pathology'].isna().sum() > 0:\n",
    "            print(f\"There are unmapped values in 'pathology' for {df.name}. Here they are:\")\n",
    "            print(df[df['pathology'].isna()])\n",
    "\n",
    "    return train_df, test_df\n",
    "\n",
    "# Assign names to the dataframes for easier identification in print statements\n",
    "train_df.name = \"train_df\"\n",
    "test_df.name = \"test_df\"\n",
    "\n",
    "# Apply the function to both train and test sets\n",
    "train_df, test_df = map_pathology(train_df, test_df)\n",
    "train_df.pathology.value_counts(normalize=True)"
   ]
  },
  {
   "cell_type": "code",
   "execution_count": 25,
   "id": "6a863ff6-4629-4ad0-a3fa-414b43a61ef6",
   "metadata": {},
   "outputs": [
    {
     "name": "stdout",
     "output_type": "stream",
     "text": [
      "Proportion of malignant cases in train set: 0.48906882591093115\n",
      "Proportion of malignant cases in test set: 0.39067055393586003\n"
     ]
    }
   ],
   "source": [
    "    global_pathology_train = train_df['pathology'].mean()\n",
    "    global_pathology_test = test_df['pathology'].mean()\n",
    "    print(f\"Proportion of malignant cases in train set: {global_pathology_train}\")\n",
    "    print(f\"Proportion of malignant cases in test set: {global_pathology_test}\")"
   ]
  },
  {
   "cell_type": "code",
   "execution_count": 26,
   "id": "ab4ac6a1-647d-4d89-8760-0f1f5df57ea7",
   "metadata": {},
   "outputs": [
    {
     "data": {
      "image/png": "[encoded data removed]",
      "text/plain": [
       "<Figure size 600x400 with 1 Axes>"
      ]
     },
     "metadata": {},
     "output_type": "display_data"
    }
   ],
   "source": [
    "plt.figure(figsize=(6, 4))\n",
    "\n",
    "# Plot for train set\n",
    "sns.histplot(train_df['pathology'], bins=2, color='blue', kde=False, label='Train Set', alpha=0.7)\n",
    "\n",
    "# Plot for test set\n",
    "sns.histplot(test_df['pathology'], bins=2, color='green', kde=False, label='Test Set', alpha=0.7)\n",
    "\n",
    "# Adding title and labels\n",
    "plt.title('Pathology Distribution in Train and Test Sets', fontsize=12)\n",
    "plt.xlabel('Pathology', fontsize=10)\n",
    "plt.ylabel('Count', fontsize=10)\n",
    "\n",
    "plt.xticks(ticks=[0, 1], labels=['Benign (0)', 'Malignant (1)'])\n",
    "\n",
    "# Adding a legend\n",
    "plt.legend(title='Dataset')\n",
    "\n",
    "plt.show()"
   ]
  },
  {
   "cell_type": "code",
   "execution_count": 27,
   "id": "d37c5e4c-4ab8-4867-bff2-15b84741d9f4",
   "metadata": {},
   "outputs": [
    {
     "data": {
      "text/html": [
       "<div>\n",
       "<style scoped>\n",
       "    .dataframe tbody tr th:only-of-type {\n",
       "        vertical-align: middle;\n",
       "    }\n",
       "\n",
       "    .dataframe tbody tr th {\n",
       "        vertical-align: top;\n",
       "    }\n",
       "\n",
       "    .dataframe thead th {\n",
       "        text-align: right;\n",
       "    }\n",
       "</style>\n",
       "<table border=\"1\" class=\"dataframe\">\n",
       "  <thead>\n",
       "    <tr style=\"text-align: right;\">\n",
       "      <th></th>\n",
       "      <th>mean</th>\n",
       "      <th>count</th>\n",
       "      <th>diff</th>\n",
       "      <th>risk</th>\n",
       "    </tr>\n",
       "    <tr>\n",
       "      <th>left_or_right_breast</th>\n",
       "      <th></th>\n",
       "      <th></th>\n",
       "      <th></th>\n",
       "      <th></th>\n",
       "    </tr>\n",
       "  </thead>\n",
       "  <tbody>\n",
       "    <tr>\n",
       "      <th>LEFT</th>\n",
       "      <td>0.522538</td>\n",
       "      <td>599</td>\n",
       "      <td>0.033469</td>\n",
       "      <td>1.068434</td>\n",
       "    </tr>\n",
       "    <tr>\n",
       "      <th>RIGHT</th>\n",
       "      <td>0.457547</td>\n",
       "      <td>636</td>\n",
       "      <td>-0.031522</td>\n",
       "      <td>0.935548</td>\n",
       "    </tr>\n",
       "  </tbody>\n",
       "</table>\n",
       "</div>"
      ],
      "text/plain": [
       "                          mean  count      diff      risk\n",
       "left_or_right_breast                                     \n",
       "LEFT                  0.522538    599  0.033469  1.068434\n",
       "RIGHT                 0.457547    636 -0.031522  0.935548"
      ]
     },
     "metadata": {},
     "output_type": "display_data"
    },
    {
     "name": "stdout",
     "output_type": "stream",
     "text": [
      "\n"
     ]
    },
    {
     "data": {
      "text/html": [
       "<div>\n",
       "<style scoped>\n",
       "    .dataframe tbody tr th:only-of-type {\n",
       "        vertical-align: middle;\n",
       "    }\n",
       "\n",
       "    .dataframe tbody tr th {\n",
       "        vertical-align: top;\n",
       "    }\n",
       "\n",
       "    .dataframe thead th {\n",
       "        text-align: right;\n",
       "    }\n",
       "</style>\n",
       "<table border=\"1\" class=\"dataframe\">\n",
       "  <thead>\n",
       "    <tr style=\"text-align: right;\">\n",
       "      <th></th>\n",
       "      <th>mean</th>\n",
       "      <th>count</th>\n",
       "      <th>diff</th>\n",
       "      <th>risk</th>\n",
       "    </tr>\n",
       "    <tr>\n",
       "      <th>image_view</th>\n",
       "      <th></th>\n",
       "      <th></th>\n",
       "      <th></th>\n",
       "      <th></th>\n",
       "    </tr>\n",
       "  </thead>\n",
       "  <tbody>\n",
       "    <tr>\n",
       "      <th>CC</th>\n",
       "      <td>0.492147</td>\n",
       "      <td>573</td>\n",
       "      <td>0.003078</td>\n",
       "      <td>1.006293</td>\n",
       "    </tr>\n",
       "    <tr>\n",
       "      <th>MLO</th>\n",
       "      <td>0.486405</td>\n",
       "      <td>662</td>\n",
       "      <td>-0.002664</td>\n",
       "      <td>0.994553</td>\n",
       "    </tr>\n",
       "  </tbody>\n",
       "</table>\n",
       "</div>"
      ],
      "text/plain": [
       "                mean  count      diff      risk\n",
       "image_view                                     \n",
       "CC          0.492147    573  0.003078  1.006293\n",
       "MLO         0.486405    662 -0.002664  0.994553"
      ]
     },
     "metadata": {},
     "output_type": "display_data"
    },
    {
     "name": "stdout",
     "output_type": "stream",
     "text": [
      "\n"
     ]
    },
    {
     "data": {
      "text/html": [
       "<div>\n",
       "<style scoped>\n",
       "    .dataframe tbody tr th:only-of-type {\n",
       "        vertical-align: middle;\n",
       "    }\n",
       "\n",
       "    .dataframe tbody tr th {\n",
       "        vertical-align: top;\n",
       "    }\n",
       "\n",
       "    .dataframe thead th {\n",
       "        text-align: right;\n",
       "    }\n",
       "</style>\n",
       "<table border=\"1\" class=\"dataframe\">\n",
       "  <thead>\n",
       "    <tr style=\"text-align: right;\">\n",
       "      <th></th>\n",
       "      <th>mean</th>\n",
       "      <th>count</th>\n",
       "      <th>diff</th>\n",
       "      <th>risk</th>\n",
       "    </tr>\n",
       "    <tr>\n",
       "      <th>mass_shape</th>\n",
       "      <th></th>\n",
       "      <th></th>\n",
       "      <th></th>\n",
       "      <th></th>\n",
       "    </tr>\n",
       "  </thead>\n",
       "  <tbody>\n",
       "    <tr>\n",
       "      <th>IRREGULAR-ARCHITECTURAL_DISTORTION</th>\n",
       "      <td>0.941176</td>\n",
       "      <td>34</td>\n",
       "      <td>0.452108</td>\n",
       "      <td>1.924425</td>\n",
       "    </tr>\n",
       "    <tr>\n",
       "      <th>IRREGULAR</th>\n",
       "      <td>0.821958</td>\n",
       "      <td>337</td>\n",
       "      <td>0.332890</td>\n",
       "      <td>1.680660</td>\n",
       "    </tr>\n",
       "    <tr>\n",
       "      <th>ARCHITECTURAL_DISTORTION</th>\n",
       "      <td>0.650000</td>\n",
       "      <td>80</td>\n",
       "      <td>0.160931</td>\n",
       "      <td>1.329056</td>\n",
       "    </tr>\n",
       "    <tr>\n",
       "      <th>ASYMMETRIC_BREAST_TISSUE</th>\n",
       "      <td>0.400000</td>\n",
       "      <td>20</td>\n",
       "      <td>-0.089069</td>\n",
       "      <td>0.817881</td>\n",
       "    </tr>\n",
       "    <tr>\n",
       "      <th>LOBULATED</th>\n",
       "      <td>0.338983</td>\n",
       "      <td>295</td>\n",
       "      <td>-0.150086</td>\n",
       "      <td>0.693119</td>\n",
       "    </tr>\n",
       "    <tr>\n",
       "      <th>ROUND</th>\n",
       "      <td>0.333333</td>\n",
       "      <td>117</td>\n",
       "      <td>-0.155735</td>\n",
       "      <td>0.681567</td>\n",
       "    </tr>\n",
       "    <tr>\n",
       "      <th>OVAL</th>\n",
       "      <td>0.291667</td>\n",
       "      <td>312</td>\n",
       "      <td>-0.197402</td>\n",
       "      <td>0.596371</td>\n",
       "    </tr>\n",
       "    <tr>\n",
       "      <th>FOCAL_ASYMMETRIC_DENSITY</th>\n",
       "      <td>0.277778</td>\n",
       "      <td>18</td>\n",
       "      <td>-0.211291</td>\n",
       "      <td>0.567973</td>\n",
       "    </tr>\n",
       "    <tr>\n",
       "      <th>LYMPH_NODE</th>\n",
       "      <td>0.000000</td>\n",
       "      <td>22</td>\n",
       "      <td>-0.489069</td>\n",
       "      <td>0.000000</td>\n",
       "    </tr>\n",
       "  </tbody>\n",
       "</table>\n",
       "</div>"
      ],
      "text/plain": [
       "                                        mean  count      diff      risk\n",
       "mass_shape                                                             \n",
       "IRREGULAR-ARCHITECTURAL_DISTORTION  0.941176     34  0.452108  1.924425\n",
       "IRREGULAR                           0.821958    337  0.332890  1.680660\n",
       "ARCHITECTURAL_DISTORTION            0.650000     80  0.160931  1.329056\n",
       "ASYMMETRIC_BREAST_TISSUE            0.400000     20 -0.089069  0.817881\n",
       "LOBULATED                           0.338983    295 -0.150086  0.693119\n",
       "ROUND                               0.333333    117 -0.155735  0.681567\n",
       "OVAL                                0.291667    312 -0.197402  0.596371\n",
       "FOCAL_ASYMMETRIC_DENSITY            0.277778     18 -0.211291  0.567973\n",
       "LYMPH_NODE                          0.000000     22 -0.489069  0.000000"
      ]
     },
     "metadata": {},
     "output_type": "display_data"
    },
    {
     "name": "stdout",
     "output_type": "stream",
     "text": [
      "\n"
     ]
    },
    {
     "data": {
      "text/html": [
       "<div>\n",
       "<style scoped>\n",
       "    .dataframe tbody tr th:only-of-type {\n",
       "        vertical-align: middle;\n",
       "    }\n",
       "\n",
       "    .dataframe tbody tr th {\n",
       "        vertical-align: top;\n",
       "    }\n",
       "\n",
       "    .dataframe thead th {\n",
       "        text-align: right;\n",
       "    }\n",
       "</style>\n",
       "<table border=\"1\" class=\"dataframe\">\n",
       "  <thead>\n",
       "    <tr style=\"text-align: right;\">\n",
       "      <th></th>\n",
       "      <th>mean</th>\n",
       "      <th>count</th>\n",
       "      <th>diff</th>\n",
       "      <th>risk</th>\n",
       "    </tr>\n",
       "    <tr>\n",
       "      <th>mass_margins</th>\n",
       "      <th></th>\n",
       "      <th></th>\n",
       "      <th></th>\n",
       "      <th></th>\n",
       "    </tr>\n",
       "  </thead>\n",
       "  <tbody>\n",
       "    <tr>\n",
       "      <th>ILL_DEFINED-SPICULATED</th>\n",
       "      <td>0.884615</td>\n",
       "      <td>26</td>\n",
       "      <td>0.395547</td>\n",
       "      <td>1.808775</td>\n",
       "    </tr>\n",
       "    <tr>\n",
       "      <th>SPICULATED</th>\n",
       "      <td>0.879599</td>\n",
       "      <td>299</td>\n",
       "      <td>0.390530</td>\n",
       "      <td>1.798517</td>\n",
       "    </tr>\n",
       "    <tr>\n",
       "      <th>MICROLOBULATED</th>\n",
       "      <td>0.628319</td>\n",
       "      <td>113</td>\n",
       "      <td>0.139250</td>\n",
       "      <td>1.284724</td>\n",
       "    </tr>\n",
       "    <tr>\n",
       "      <th>ILL_DEFINED</th>\n",
       "      <td>0.623239</td>\n",
       "      <td>284</td>\n",
       "      <td>0.134171</td>\n",
       "      <td>1.274339</td>\n",
       "    </tr>\n",
       "    <tr>\n",
       "      <th>CIRCUMSCRIBED-ILL_DEFINED</th>\n",
       "      <td>0.481481</td>\n",
       "      <td>27</td>\n",
       "      <td>-0.007587</td>\n",
       "      <td>0.984486</td>\n",
       "    </tr>\n",
       "    <tr>\n",
       "      <th>OBSCURED</th>\n",
       "      <td>0.124378</td>\n",
       "      <td>201</td>\n",
       "      <td>-0.364691</td>\n",
       "      <td>0.254316</td>\n",
       "    </tr>\n",
       "    <tr>\n",
       "      <th>CIRCUMSCRIBED</th>\n",
       "      <td>0.112281</td>\n",
       "      <td>285</td>\n",
       "      <td>-0.376788</td>\n",
       "      <td>0.229581</td>\n",
       "    </tr>\n",
       "  </tbody>\n",
       "</table>\n",
       "</div>"
      ],
      "text/plain": [
       "                               mean  count      diff      risk\n",
       "mass_margins                                                  \n",
       "ILL_DEFINED-SPICULATED     0.884615     26  0.395547  1.808775\n",
       "SPICULATED                 0.879599    299  0.390530  1.798517\n",
       "MICROLOBULATED             0.628319    113  0.139250  1.284724\n",
       "ILL_DEFINED                0.623239    284  0.134171  1.274339\n",
       "CIRCUMSCRIBED-ILL_DEFINED  0.481481     27 -0.007587  0.984486\n",
       "OBSCURED                   0.124378    201 -0.364691  0.254316\n",
       "CIRCUMSCRIBED              0.112281    285 -0.376788  0.229581"
      ]
     },
     "metadata": {},
     "output_type": "display_data"
    },
    {
     "name": "stdout",
     "output_type": "stream",
     "text": [
      "\n"
     ]
    }
   ],
   "source": [
    "for col in categorical:\n",
    "    df_group = train_df.groupby(col, observed=False).pathology.agg(['mean', 'count'])\n",
    "    df_group['diff'] = df_group['mean'] - global_pathology_train\n",
    "    df_group['risk'] = df_group['mean']/global_pathology_train\n",
    "    display(df_group.sort_values(by='risk', ascending=False))\n",
    "    print()"
   ]
  },
  {
   "cell_type": "code",
   "execution_count": 28,
   "id": "f626785a-403e-4aed-8d2f-67741fee797f",
   "metadata": {},
   "outputs": [
    {
     "data": {
      "text/html": [
       "<div>\n",
       "<style scoped>\n",
       "    .dataframe tbody tr th:only-of-type {\n",
       "        vertical-align: middle;\n",
       "    }\n",
       "\n",
       "    .dataframe tbody tr th {\n",
       "        vertical-align: top;\n",
       "    }\n",
       "\n",
       "    .dataframe thead th {\n",
       "        text-align: right;\n",
       "    }\n",
       "</style>\n",
       "<table border=\"1\" class=\"dataframe\">\n",
       "  <thead>\n",
       "    <tr style=\"text-align: right;\">\n",
       "      <th></th>\n",
       "      <th>MI</th>\n",
       "    </tr>\n",
       "  </thead>\n",
       "  <tbody>\n",
       "    <tr>\n",
       "      <th>mass_margins</th>\n",
       "      <td>0.226317</td>\n",
       "    </tr>\n",
       "    <tr>\n",
       "      <th>mass_shape</th>\n",
       "      <td>0.131722</td>\n",
       "    </tr>\n",
       "    <tr>\n",
       "      <th>left_or_right_breast</th>\n",
       "      <td>0.002112</td>\n",
       "    </tr>\n",
       "    <tr>\n",
       "      <th>image_view</th>\n",
       "      <td>0.000016</td>\n",
       "    </tr>\n",
       "  </tbody>\n",
       "</table>\n",
       "</div>"
      ],
      "text/plain": [
       "                            MI\n",
       "mass_margins          0.226317\n",
       "mass_shape            0.131722\n",
       "left_or_right_breast  0.002112\n",
       "image_view            0.000016"
      ]
     },
     "metadata": {},
     "output_type": "display_data"
    }
   ],
   "source": [
    "from sklearn.metrics import mutual_info_score\n",
    "\n",
    "def mutual_info_pathology_score(series):\n",
    "    return mutual_info_score(series, train_df.pathology)\n",
    "\n",
    "mi = train_df[categorical].apply(mutual_info_pathology_score)\n",
    "mi = mi.sort_values(ascending=False).to_frame(name = 'MI')\n",
    "\n",
    "display(mi)"
   ]
  },
  {
   "cell_type": "code",
   "execution_count": 29,
   "id": "b5f5076e-3c58-47cd-b04e-d10cdd7c2cfa",
   "metadata": {},
   "outputs": [
    {
     "data": {
      "text/html": [
       "<div>\n",
       "<style scoped>\n",
       "    .dataframe tbody tr th:only-of-type {\n",
       "        vertical-align: middle;\n",
       "    }\n",
       "\n",
       "    .dataframe tbody tr th {\n",
       "        vertical-align: top;\n",
       "    }\n",
       "\n",
       "    .dataframe thead th {\n",
       "        text-align: right;\n",
       "    }\n",
       "</style>\n",
       "<table border=\"1\" class=\"dataframe\">\n",
       "  <thead>\n",
       "    <tr style=\"text-align: right;\">\n",
       "      <th></th>\n",
       "      <th>breast_density</th>\n",
       "      <th>left_or_right_breast</th>\n",
       "      <th>abnormality_id</th>\n",
       "      <th>mass_shape</th>\n",
       "      <th>mass_margins</th>\n",
       "      <th>assessment</th>\n",
       "      <th>pathology</th>\n",
       "      <th>subtlety</th>\n",
       "    </tr>\n",
       "  </thead>\n",
       "  <tbody>\n",
       "    <tr>\n",
       "      <th>0</th>\n",
       "      <td>3</td>\n",
       "      <td>LEFT</td>\n",
       "      <td>1</td>\n",
       "      <td>IRREGULAR-ARCHITECTURAL_DISTORTION</td>\n",
       "      <td>SPICULATED</td>\n",
       "      <td>4</td>\n",
       "      <td>1</td>\n",
       "      <td>4</td>\n",
       "    </tr>\n",
       "    <tr>\n",
       "      <th>1</th>\n",
       "      <td>3</td>\n",
       "      <td>LEFT</td>\n",
       "      <td>1</td>\n",
       "      <td>IRREGULAR-ARCHITECTURAL_DISTORTION</td>\n",
       "      <td>SPICULATED</td>\n",
       "      <td>4</td>\n",
       "      <td>1</td>\n",
       "      <td>4</td>\n",
       "    </tr>\n",
       "    <tr>\n",
       "      <th>2</th>\n",
       "      <td>3</td>\n",
       "      <td>LEFT</td>\n",
       "      <td>1</td>\n",
       "      <td>ARCHITECTURAL_DISTORTION</td>\n",
       "      <td>ILL_DEFINED</td>\n",
       "      <td>4</td>\n",
       "      <td>0</td>\n",
       "      <td>3</td>\n",
       "    </tr>\n",
       "    <tr>\n",
       "      <th>3</th>\n",
       "      <td>3</td>\n",
       "      <td>LEFT</td>\n",
       "      <td>1</td>\n",
       "      <td>ARCHITECTURAL_DISTORTION</td>\n",
       "      <td>ILL_DEFINED</td>\n",
       "      <td>4</td>\n",
       "      <td>0</td>\n",
       "      <td>3</td>\n",
       "    </tr>\n",
       "    <tr>\n",
       "      <th>4</th>\n",
       "      <td>3</td>\n",
       "      <td>RIGHT</td>\n",
       "      <td>1</td>\n",
       "      <td>OVAL</td>\n",
       "      <td>CIRCUMSCRIBED</td>\n",
       "      <td>4</td>\n",
       "      <td>0</td>\n",
       "      <td>5</td>\n",
       "    </tr>\n",
       "  </tbody>\n",
       "</table>\n",
       "</div>"
      ],
      "text/plain": [
       "   breast_density left_or_right_breast  abnormality_id  \\\n",
       "0               3                 LEFT               1   \n",
       "1               3                 LEFT               1   \n",
       "2               3                 LEFT               1   \n",
       "3               3                 LEFT               1   \n",
       "4               3                RIGHT               1   \n",
       "\n",
       "                           mass_shape   mass_margins  assessment  pathology  \\\n",
       "0  IRREGULAR-ARCHITECTURAL_DISTORTION     SPICULATED           4          1   \n",
       "1  IRREGULAR-ARCHITECTURAL_DISTORTION     SPICULATED           4          1   \n",
       "2            ARCHITECTURAL_DISTORTION    ILL_DEFINED           4          0   \n",
       "3            ARCHITECTURAL_DISTORTION    ILL_DEFINED           4          0   \n",
       "4                                OVAL  CIRCUMSCRIBED           4          0   \n",
       "\n",
       "   subtlety  \n",
       "0         4  \n",
       "1         4  \n",
       "2         3  \n",
       "3         3  \n",
       "4         5  "
      ]
     },
     "execution_count": 29,
     "metadata": {},
     "output_type": "execute_result"
    }
   ],
   "source": [
    "train_df = train_df.drop(columns=['image_view'], errors='ignore')\n",
    "test_df = test_df.drop(columns=['image_view'], errors='ignore')\n",
    "train_df.head() "
   ]
  },
  {
   "cell_type": "code",
   "execution_count": null,
   "id": "f814ee2a-5af6-4fc3-a77e-bf12405b25f3",
   "metadata": {},
   "outputs": [],
   "source": []
  },
  {
   "cell_type": "code",
   "execution_count": 30,
   "id": "af1f40e3-3e36-4c35-af62-1a9522216098",
   "metadata": {},
   "outputs": [
    {
     "data": {
      "image/png": "[encoded data removed]",
      "text/plain": [
       "<Figure size 800x400 with 2 Axes>"
      ]
     },
     "metadata": {},
     "output_type": "display_data"
    }
   ],
   "source": [
    "corr = train_df[numerical+['pathology']].corr(method = 'spearman')\n",
    "plt.figure(figsize=(8, 4))\n",
    "mask = np.zeros_like(corr)\n",
    "mask[np.triu_indices_from(mask)] = True\n",
    "sns.heatmap(corr, mask=mask, cmap = \"magma\", annot = True, annot_kws = {'size': 7})\n",
    "plt.title(\"Dataset correlation matrix\", fontsize = 12, fontweight = \"bold\")\n",
    "plt.show()"
   ]
  },
  {
   "cell_type": "code",
   "execution_count": 31,
   "id": "a751fc7a-d39e-4016-9310-3d0c9064e5a1",
   "metadata": {},
   "outputs": [
    {
     "data": {
      "text/plain": [
       "abnormality_id\n",
       "0.0    1147\n",
       "0.5      66\n",
       "1.0      22\n",
       "Name: count, dtype: int64"
      ]
     },
     "execution_count": 31,
     "metadata": {},
     "output_type": "execute_result"
    }
   ],
   "source": [
    "scaler = MinMaxScaler()\n",
    "\n",
    "train_df[numerical] = scaler.fit_transform(train_df[numerical])\n",
    "test_df[numerical] = scaler.transform(test_df[numerical])\n",
    "\n",
    "train_df['abnormality_id'].value_counts()"
   ]
  },
  {
   "cell_type": "code",
   "execution_count": 32,
   "id": "d5348228-3a41-4396-869a-aa80629b693d",
   "metadata": {},
   "outputs": [],
   "source": [
    "from sklearn.model_selection import train_test_split\n",
    "\n",
    "df_train, df_val = train_test_split(train_df, test_size = 0.2, random_state=1)\n",
    "\n",
    "\n",
    "y_train = df_train['pathology']\n",
    "y_val = df_val['pathology']\n",
    "y_test = test_df['pathology']\n",
    "\n",
    "del df_train['pathology']\n",
    "del df_val['pathology']\n",
    "del test_df['pathology']"
   ]
  },
  {
   "cell_type": "code",
   "execution_count": 33,
   "id": "b647c4e0-7f0e-455c-afa2-e28ea5d901bc",
   "metadata": {},
   "outputs": [
    {
     "name": "stdout",
     "output_type": "stream",
     "text": [
      "Number of features: [[0.         0.8        0.33333333 ... 0.         0.         0.        ]\n",
      " [0.         1.         0.         ... 1.         0.         1.        ]\n",
      " [0.         1.         0.33333333 ... 0.         0.         1.        ]\n",
      " ...\n",
      " [0.         0.8        0.33333333 ... 1.         0.         0.75      ]\n",
      " [0.         0.8        0.33333333 ... 0.         0.         0.        ]\n",
      " [0.         0.8        0.33333333 ... 0.         0.         0.75      ]]\n",
      "Number of features: [[0.         1.         1.         ... 0.         0.         1.        ]\n",
      " [0.         1.         1.         ... 0.         0.         1.        ]\n",
      " [0.         0.8        0.33333333 ... 0.         1.         0.75      ]\n",
      " ...\n",
      " [0.         0.8        0.33333333 ... 0.         0.         0.25      ]\n",
      " [0.         1.         0.66666667 ... 0.         0.         0.75      ]\n",
      " [0.         1.         0.66666667 ... 0.         0.         0.75      ]]\n"
     ]
    }
   ],
   "source": [
    "# one hot encoding\n",
    "from sklearn.feature_extraction import DictVectorizer\n",
    "dv = DictVectorizer(sparse=False)\n",
    "\n",
    "train_dicts = df_train.to_dict(orient='records')\n",
    "X_train = dv.fit_transform(train_dicts)\n",
    "\n",
    "val_dicts = df_val.to_dict(orient='records')\n",
    "X_val = dv.transform(val_dicts)\n",
    "\n",
    "test_dicts = test_df.to_dict(orient='records')\n",
    "X_test = dv.transform(test_dicts)"
   ]
  },
  {
   "cell_type": "markdown",
   "id": "37bcc5de-18d5-4284-b1ea-1add76e7d515",
   "metadata": {},
   "source": [
    "Logistic Regression with hyperparameters tuning\n",
    "I will perform hyperparameter tuning using GridSearchCV from sklearn library."
   ]
  },
  {
   "cell_type": "code",
   "execution_count": 34,
   "id": "43a41a5a-1d4e-45b4-bf12-ee0f70cdbede",
   "metadata": {},
   "outputs": [
    {
     "data": {
      "text/html": [
       "<style>#sk-container-id-1 {color: black;background-color: white;}#sk-container-id-1 pre{padding: 0;}#sk-container-id-1 div.sk-toggleable {background-color: white;}#sk-container-id-1 label.sk-toggleable__label {cursor: pointer;display: block;width: 100%;margin-bottom: 0;padding: 0.3em;box-sizing: border-box;text-align: center;}#sk-container-id-1 label.sk-toggleable__label-arrow:before {content: \"▸\";float: left;margin-right: 0.25em;color: #696969;}#sk-container-id-1 label.sk-toggleable__label-arrow:hover:before {color: black;}#sk-container-id-1 div.sk-estimator:hover label.sk-toggleable__label-arrow:before {color: black;}#sk-container-id-1 div.sk-toggleable__content {max-height: 0;max-width: 0;overflow: hidden;text-align: left;background-color: #f0f8ff;}#sk-container-id-1 div.sk-toggleable__content pre {margin: 0.2em;color: black;border-radius: 0.25em;background-color: #f0f8ff;}#sk-container-id-1 input.sk-toggleable__control:checked~div.sk-toggleable__content {max-height: 200px;max-width: 100%;overflow: auto;}#sk-container-id-1 input.sk-toggleable__control:checked~label.sk-toggleable__label-arrow:before {content: \"▾\";}#sk-container-id-1 div.sk-estimator input.sk-toggleable__control:checked~label.sk-toggleable__label {background-color: #d4ebff;}#sk-container-id-1 div.sk-label input.sk-toggleable__control:checked~label.sk-toggleable__label {background-color: #d4ebff;}#sk-container-id-1 input.sk-hidden--visually {border: 0;clip: rect(1px 1px 1px 1px);clip: rect(1px, 1px, 1px, 1px);height: 1px;margin: -1px;overflow: hidden;padding: 0;position: absolute;width: 1px;}#sk-container-id-1 div.sk-estimator {font-family: monospace;background-color: #f0f8ff;border: 1px dotted black;border-radius: 0.25em;box-sizing: border-box;margin-bottom: 0.5em;}#sk-container-id-1 div.sk-estimator:hover {background-color: #d4ebff;}#sk-container-id-1 div.sk-parallel-item::after {content: \"\";width: 100%;border-bottom: 1px solid gray;flex-grow: 1;}#sk-container-id-1 div.sk-label:hover label.sk-toggleable__label {background-color: #d4ebff;}#sk-container-id-1 div.sk-serial::before {content: \"\";position: absolute;border-left: 1px solid gray;box-sizing: border-box;top: 0;bottom: 0;left: 50%;z-index: 0;}#sk-container-id-1 div.sk-serial {display: flex;flex-direction: column;align-items: center;background-color: white;padding-right: 0.2em;padding-left: 0.2em;position: relative;}#sk-container-id-1 div.sk-item {position: relative;z-index: 1;}#sk-container-id-1 div.sk-parallel {display: flex;align-items: stretch;justify-content: center;background-color: white;position: relative;}#sk-container-id-1 div.sk-item::before, #sk-container-id-1 div.sk-parallel-item::before {content: \"\";position: absolute;border-left: 1px solid gray;box-sizing: border-box;top: 0;bottom: 0;left: 50%;z-index: -1;}#sk-container-id-1 div.sk-parallel-item {display: flex;flex-direction: column;z-index: 1;position: relative;background-color: white;}#sk-container-id-1 div.sk-parallel-item:first-child::after {align-self: flex-end;width: 50%;}#sk-container-id-1 div.sk-parallel-item:last-child::after {align-self: flex-start;width: 50%;}#sk-container-id-1 div.sk-parallel-item:only-child::after {width: 0;}#sk-container-id-1 div.sk-dashed-wrapped {border: 1px dashed gray;margin: 0 0.4em 0.5em 0.4em;box-sizing: border-box;padding-bottom: 0.4em;background-color: white;}#sk-container-id-1 div.sk-label label {font-family: monospace;font-weight: bold;display: inline-block;line-height: 1.2em;}#sk-container-id-1 div.sk-label-container {text-align: center;}#sk-container-id-1 div.sk-container {/* jupyter's `normalize.less` sets `[hidden] { display: none; }` but bootstrap.min.css set `[hidden] { display: none !important; }` so we also need the `!important` here to be able to override the default hidden behavior on the sphinx rendered scikit-learn.org. See: https://github.com/scikit-learn/scikit-learn/issues/21755 */display: inline-block !important;position: relative;}#sk-container-id-1 div.sk-text-repr-fallback {display: none;}</style><div id=\"sk-container-id-1\" class=\"sk-top-container\"><div class=\"sk-text-repr-fallback\"><pre>GridSearchCV(estimator=LogisticRegression(),\n",
       "             param_grid={&#x27;C&#x27;: [0.01, 0.1, 0.5, 10], &#x27;penalty&#x27;: [&#x27;l1&#x27;, &#x27;l2&#x27;],\n",
       "                         &#x27;solver&#x27;: [&#x27;liblinear&#x27;]})</pre><b>In a Jupyter environment, please rerun this cell to show the HTML representation or trust the notebook. <br />On GitHub, the HTML representation is unable to render, please try loading this page with nbviewer.org.</b></div><div class=\"sk-container\" hidden><div class=\"sk-item sk-dashed-wrapped\"><div class=\"sk-label-container\"><div class=\"sk-label sk-toggleable\"><input class=\"sk-toggleable__control sk-hidden--visually\" id=\"sk-estimator-id-1\" type=\"checkbox\" ><label for=\"sk-estimator-id-1\" class=\"sk-toggleable__label sk-toggleable__label-arrow\">GridSearchCV</label><div class=\"sk-toggleable__content\"><pre>GridSearchCV(estimator=LogisticRegression(),\n",
       "             param_grid={&#x27;C&#x27;: [0.01, 0.1, 0.5, 10], &#x27;penalty&#x27;: [&#x27;l1&#x27;, &#x27;l2&#x27;],\n",
       "                         &#x27;solver&#x27;: [&#x27;liblinear&#x27;]})</pre></div></div></div><div class=\"sk-parallel\"><div class=\"sk-parallel-item\"><div class=\"sk-item\"><div class=\"sk-label-container\"><div class=\"sk-label sk-toggleable\"><input class=\"sk-toggleable__control sk-hidden--visually\" id=\"sk-estimator-id-2\" type=\"checkbox\" ><label for=\"sk-estimator-id-2\" class=\"sk-toggleable__label sk-toggleable__label-arrow\">estimator: LogisticRegression</label><div class=\"sk-toggleable__content\"><pre>LogisticRegression()</pre></div></div></div><div class=\"sk-serial\"><div class=\"sk-item\"><div class=\"sk-estimator sk-toggleable\"><input class=\"sk-toggleable__control sk-hidden--visually\" id=\"sk-estimator-id-3\" type=\"checkbox\" ><label for=\"sk-estimator-id-3\" class=\"sk-toggleable__label sk-toggleable__label-arrow\">LogisticRegression</label><div class=\"sk-toggleable__content\"><pre>LogisticRegression()</pre></div></div></div></div></div></div></div></div></div></div>"
      ],
      "text/plain": [
       "GridSearchCV(estimator=LogisticRegression(),\n",
       "             param_grid={'C': [0.01, 0.1, 0.5, 10], 'penalty': ['l1', 'l2'],\n",
       "                         'solver': ['liblinear']})"
      ]
     },
     "execution_count": 34,
     "metadata": {},
     "output_type": "execute_result"
    }
   ],
   "source": [
    "# Set the parameters dictionary\n",
    "parameters = {\n",
    "    \"solver\": [\"liblinear\"],\n",
    "    \"C\": [0.01, 0.1, 0.5, 10],\n",
    "    \"penalty\": [\"l1\", \"l2\"],\n",
    "}\n",
    "\n",
    "# Instantiate the model and classifier\n",
    "log_reg = LogisticRegression()\n",
    "clf = GridSearchCV(log_reg, parameters)\n",
    "\n",
    "# Fit\n",
    "clf.fit(X_train, y_train)"
   ]
  },
  {
   "cell_type": "code",
   "execution_count": 35,
   "id": "1c6ed41c-13a2-4ba0-8d12-c0946ee59fa4",
   "metadata": {},
   "outputs": [
    {
     "data": {
      "text/plain": [
       "{'C': 10, 'penalty': 'l2', 'solver': 'liblinear'}"
      ]
     },
     "execution_count": 35,
     "metadata": {},
     "output_type": "execute_result"
    }
   ],
   "source": [
    "clf.best_params_"
   ]
  },
  {
   "cell_type": "code",
   "execution_count": 36,
   "id": "0426ee19-2842-4600-9689-2152474cb373",
   "metadata": {},
   "outputs": [
    {
     "data": {
      "text/plain": [
       "0.8239142695995488"
      ]
     },
     "execution_count": 36,
     "metadata": {},
     "output_type": "execute_result"
    }
   ],
   "source": [
    "# Get the corresponding accuracy\n",
    "clf.best_score_"
   ]
  },
  {
   "cell_type": "code",
   "execution_count": 74,
   "id": "a69a88bf-f5dc-401d-912b-a8b7a6edd4bf",
   "metadata": {},
   "outputs": [],
   "source": [
    "log_reg_best = LogisticRegression(C=10, penalty=\"l2\", solver=\"liblinear\")\n",
    "log_reg_best.fit(X_train, y_train)\n",
    "\n",
    "predicted_val = log_reg_best.predict(X_val)"
   ]
  },
  {
   "cell_type": "code",
   "execution_count": 75,
   "id": "4192253e-cea9-4dc2-9c10-940db748e211",
   "metadata": {},
   "outputs": [
    {
     "data": {
      "text/plain": [
       "0.8295618522891249"
      ]
     },
     "execution_count": 75,
     "metadata": {},
     "output_type": "execute_result"
    }
   ],
   "source": [
    "roc_auc_score(y_val, predicted_val)"
   ]
  },
  {
   "cell_type": "code",
   "execution_count": 76,
   "id": "0e4a4669-a064-4ccf-99b2-5a425e8bc2b4",
   "metadata": {},
   "outputs": [],
   "source": [
    "predicted_test = log_reg_best.predict(X_test)"
   ]
  },
  {
   "cell_type": "code",
   "execution_count": 77,
   "id": "5de27f2e-285c-4b59-bbe6-4364a8e44415",
   "metadata": {},
   "outputs": [
    {
     "data": {
      "text/plain": [
       "0.7695850889095194"
      ]
     },
     "execution_count": 77,
     "metadata": {},
     "output_type": "execute_result"
    }
   ],
   "source": [
    "log_reg_roc_auc = roc_auc_score(y_test, predicted_test)\n",
    "log_reg_roc_auc"
   ]
  },
  {
   "cell_type": "code",
   "execution_count": 52,
   "id": "e00ff51a-57f1-4d4c-b9ed-e9bc3917396a",
   "metadata": {},
   "outputs": [
    {
     "data": {
      "image/png": "[encoded data removed]",
      "text/plain": [
       "<Figure size 1000x600 with 1 Axes>"
      ]
     },
     "metadata": {},
     "output_type": "display_data"
    }
   ],
   "source": [
    "coefficients = log_reg_best.coef_[0]\n",
    "\n",
    "feature_names = dv.get_feature_names_out()\n",
    "\n",
    "feature_importance = pd.DataFrame(\n",
    "    {\"Feature\": feature_names, \"Importance\": np.abs(coefficients)}\n",
    ")\n",
    "feature_importance = feature_importance.sort_values(\"Importance\", ascending=True)\n",
    "feature_importance.plot(x=\"Feature\", y=\"Importance\", kind=\"barh\", figsize=(10, 6))\n",
    "plt.title(\"Feature Importance\")\n",
    "plt.show()"
   ]
  },
  {
   "cell_type": "markdown",
   "id": "04bf1a8f-6dfc-45aa-a9e9-fcf9f28096d7",
   "metadata": {},
   "source": [
    "Random Forest with hyperparameters tuning"
   ]
  },
  {
   "cell_type": "code",
   "execution_count": 53,
   "id": "a9911cc7-08f1-4ed6-8772-0643d6505fe0",
   "metadata": {},
   "outputs": [
    {
     "data": {
      "text/html": [
       "<style>#sk-container-id-2 {color: black;background-color: white;}#sk-container-id-2 pre{padding: 0;}#sk-container-id-2 div.sk-toggleable {background-color: white;}#sk-container-id-2 label.sk-toggleable__label {cursor: pointer;display: block;width: 100%;margin-bottom: 0;padding: 0.3em;box-sizing: border-box;text-align: center;}#sk-container-id-2 label.sk-toggleable__label-arrow:before {content: \"▸\";float: left;margin-right: 0.25em;color: #696969;}#sk-container-id-2 label.sk-toggleable__label-arrow:hover:before {color: black;}#sk-container-id-2 div.sk-estimator:hover label.sk-toggleable__label-arrow:before {color: black;}#sk-container-id-2 div.sk-toggleable__content {max-height: 0;max-width: 0;overflow: hidden;text-align: left;background-color: #f0f8ff;}#sk-container-id-2 div.sk-toggleable__content pre {margin: 0.2em;color: black;border-radius: 0.25em;background-color: #f0f8ff;}#sk-container-id-2 input.sk-toggleable__control:checked~div.sk-toggleable__content {max-height: 200px;max-width: 100%;overflow: auto;}#sk-container-id-2 input.sk-toggleable__control:checked~label.sk-toggleable__label-arrow:before {content: \"▾\";}#sk-container-id-2 div.sk-estimator input.sk-toggleable__control:checked~label.sk-toggleable__label {background-color: #d4ebff;}#sk-container-id-2 div.sk-label input.sk-toggleable__control:checked~label.sk-toggleable__label {background-color: #d4ebff;}#sk-container-id-2 input.sk-hidden--visually {border: 0;clip: rect(1px 1px 1px 1px);clip: rect(1px, 1px, 1px, 1px);height: 1px;margin: -1px;overflow: hidden;padding: 0;position: absolute;width: 1px;}#sk-container-id-2 div.sk-estimator {font-family: monospace;background-color: #f0f8ff;border: 1px dotted black;border-radius: 0.25em;box-sizing: border-box;margin-bottom: 0.5em;}#sk-container-id-2 div.sk-estimator:hover {background-color: #d4ebff;}#sk-container-id-2 div.sk-parallel-item::after {content: \"\";width: 100%;border-bottom: 1px solid gray;flex-grow: 1;}#sk-container-id-2 div.sk-label:hover label.sk-toggleable__label {background-color: #d4ebff;}#sk-container-id-2 div.sk-serial::before {content: \"\";position: absolute;border-left: 1px solid gray;box-sizing: border-box;top: 0;bottom: 0;left: 50%;z-index: 0;}#sk-container-id-2 div.sk-serial {display: flex;flex-direction: column;align-items: center;background-color: white;padding-right: 0.2em;padding-left: 0.2em;position: relative;}#sk-container-id-2 div.sk-item {position: relative;z-index: 1;}#sk-container-id-2 div.sk-parallel {display: flex;align-items: stretch;justify-content: center;background-color: white;position: relative;}#sk-container-id-2 div.sk-item::before, #sk-container-id-2 div.sk-parallel-item::before {content: \"\";position: absolute;border-left: 1px solid gray;box-sizing: border-box;top: 0;bottom: 0;left: 50%;z-index: -1;}#sk-container-id-2 div.sk-parallel-item {display: flex;flex-direction: column;z-index: 1;position: relative;background-color: white;}#sk-container-id-2 div.sk-parallel-item:first-child::after {align-self: flex-end;width: 50%;}#sk-container-id-2 div.sk-parallel-item:last-child::after {align-self: flex-start;width: 50%;}#sk-container-id-2 div.sk-parallel-item:only-child::after {width: 0;}#sk-container-id-2 div.sk-dashed-wrapped {border: 1px dashed gray;margin: 0 0.4em 0.5em 0.4em;box-sizing: border-box;padding-bottom: 0.4em;background-color: white;}#sk-container-id-2 div.sk-label label {font-family: monospace;font-weight: bold;display: inline-block;line-height: 1.2em;}#sk-container-id-2 div.sk-label-container {text-align: center;}#sk-container-id-2 div.sk-container {/* jupyter's `normalize.less` sets `[hidden] { display: none; }` but bootstrap.min.css set `[hidden] { display: none !important; }` so we also need the `!important` here to be able to override the default hidden behavior on the sphinx rendered scikit-learn.org. See: https://github.com/scikit-learn/scikit-learn/issues/21755 */display: inline-block !important;position: relative;}#sk-container-id-2 div.sk-text-repr-fallback {display: none;}</style><div id=\"sk-container-id-2\" class=\"sk-top-container\"><div class=\"sk-text-repr-fallback\"><pre>GridSearchCV(estimator=RandomForestClassifier(),\n",
       "             param_grid={&#x27;criterion&#x27;: [&#x27;gini&#x27;, &#x27;entropy&#x27;],\n",
       "                         &#x27;max_depth&#x27;: [1, 2, 3], &#x27;min_samples_leaf&#x27;: [1, 2],\n",
       "                         &#x27;min_samples_split&#x27;: [2, 3],\n",
       "                         &#x27;n_estimators&#x27;: [10, 50, 100, 200]})</pre><b>In a Jupyter environment, please rerun this cell to show the HTML representation or trust the notebook. <br />On GitHub, the HTML representation is unable to render, please try loading this page with nbviewer.org.</b></div><div class=\"sk-container\" hidden><div class=\"sk-item sk-dashed-wrapped\"><div class=\"sk-label-container\"><div class=\"sk-label sk-toggleable\"><input class=\"sk-toggleable__control sk-hidden--visually\" id=\"sk-estimator-id-4\" type=\"checkbox\" ><label for=\"sk-estimator-id-4\" class=\"sk-toggleable__label sk-toggleable__label-arrow\">GridSearchCV</label><div class=\"sk-toggleable__content\"><pre>GridSearchCV(estimator=RandomForestClassifier(),\n",
       "             param_grid={&#x27;criterion&#x27;: [&#x27;gini&#x27;, &#x27;entropy&#x27;],\n",
       "                         &#x27;max_depth&#x27;: [1, 2, 3], &#x27;min_samples_leaf&#x27;: [1, 2],\n",
       "                         &#x27;min_samples_split&#x27;: [2, 3],\n",
       "                         &#x27;n_estimators&#x27;: [10, 50, 100, 200]})</pre></div></div></div><div class=\"sk-parallel\"><div class=\"sk-parallel-item\"><div class=\"sk-item\"><div class=\"sk-label-container\"><div class=\"sk-label sk-toggleable\"><input class=\"sk-toggleable__control sk-hidden--visually\" id=\"sk-estimator-id-5\" type=\"checkbox\" ><label for=\"sk-estimator-id-5\" class=\"sk-toggleable__label sk-toggleable__label-arrow\">estimator: RandomForestClassifier</label><div class=\"sk-toggleable__content\"><pre>RandomForestClassifier()</pre></div></div></div><div class=\"sk-serial\"><div class=\"sk-item\"><div class=\"sk-estimator sk-toggleable\"><input class=\"sk-toggleable__control sk-hidden--visually\" id=\"sk-estimator-id-6\" type=\"checkbox\" ><label for=\"sk-estimator-id-6\" class=\"sk-toggleable__label sk-toggleable__label-arrow\">RandomForestClassifier</label><div class=\"sk-toggleable__content\"><pre>RandomForestClassifier()</pre></div></div></div></div></div></div></div></div></div></div>"
      ],
      "text/plain": [
       "GridSearchCV(estimator=RandomForestClassifier(),\n",
       "             param_grid={'criterion': ['gini', 'entropy'],\n",
       "                         'max_depth': [1, 2, 3], 'min_samples_leaf': [1, 2],\n",
       "                         'min_samples_split': [2, 3],\n",
       "                         'n_estimators': [10, 50, 100, 200]})"
      ]
     },
     "execution_count": 53,
     "metadata": {},
     "output_type": "execute_result"
    }
   ],
   "source": [
    "# Set the parameters dictionary\n",
    "parameters = {\n",
    "    \"n_estimators\": [10, 50, 100, 200],\n",
    "    \"criterion\": [\"gini\", \"entropy\"],\n",
    "    \"max_depth\": [1, 2, 3],\n",
    "    \"min_samples_split\": [2, 3],\n",
    "    \"min_samples_leaf\": [1, 2],\n",
    "}\n",
    "\n",
    "# Instantiate the model and classifier\n",
    "random_forest = RandomForestClassifier()\n",
    "clf_rf = GridSearchCV(random_forest, parameters)\n",
    "\n",
    "# Fit\n",
    "clf_rf.fit(X_train, y_train)"
   ]
  },
  {
   "cell_type": "code",
   "execution_count": 54,
   "id": "91f7d0a6-0b91-49c7-ad38-b3c713637a97",
   "metadata": {},
   "outputs": [
    {
     "data": {
      "text/html": [
       "<style>#sk-container-id-3 {color: black;background-color: white;}#sk-container-id-3 pre{padding: 0;}#sk-container-id-3 div.sk-toggleable {background-color: white;}#sk-container-id-3 label.sk-toggleable__label {cursor: pointer;display: block;width: 100%;margin-bottom: 0;padding: 0.3em;box-sizing: border-box;text-align: center;}#sk-container-id-3 label.sk-toggleable__label-arrow:before {content: \"▸\";float: left;margin-right: 0.25em;color: #696969;}#sk-container-id-3 label.sk-toggleable__label-arrow:hover:before {color: black;}#sk-container-id-3 div.sk-estimator:hover label.sk-toggleable__label-arrow:before {color: black;}#sk-container-id-3 div.sk-toggleable__content {max-height: 0;max-width: 0;overflow: hidden;text-align: left;background-color: #f0f8ff;}#sk-container-id-3 div.sk-toggleable__content pre {margin: 0.2em;color: black;border-radius: 0.25em;background-color: #f0f8ff;}#sk-container-id-3 input.sk-toggleable__control:checked~div.sk-toggleable__content {max-height: 200px;max-width: 100%;overflow: auto;}#sk-container-id-3 input.sk-toggleable__control:checked~label.sk-toggleable__label-arrow:before {content: \"▾\";}#sk-container-id-3 div.sk-estimator input.sk-toggleable__control:checked~label.sk-toggleable__label {background-color: #d4ebff;}#sk-container-id-3 div.sk-label input.sk-toggleable__control:checked~label.sk-toggleable__label {background-color: #d4ebff;}#sk-container-id-3 input.sk-hidden--visually {border: 0;clip: rect(1px 1px 1px 1px);clip: rect(1px, 1px, 1px, 1px);height: 1px;margin: -1px;overflow: hidden;padding: 0;position: absolute;width: 1px;}#sk-container-id-3 div.sk-estimator {font-family: monospace;background-color: #f0f8ff;border: 1px dotted black;border-radius: 0.25em;box-sizing: border-box;margin-bottom: 0.5em;}#sk-container-id-3 div.sk-estimator:hover {background-color: #d4ebff;}#sk-container-id-3 div.sk-parallel-item::after {content: \"\";width: 100%;border-bottom: 1px solid gray;flex-grow: 1;}#sk-container-id-3 div.sk-label:hover label.sk-toggleable__label {background-color: #d4ebff;}#sk-container-id-3 div.sk-serial::before {content: \"\";position: absolute;border-left: 1px solid gray;box-sizing: border-box;top: 0;bottom: 0;left: 50%;z-index: 0;}#sk-container-id-3 div.sk-serial {display: flex;flex-direction: column;align-items: center;background-color: white;padding-right: 0.2em;padding-left: 0.2em;position: relative;}#sk-container-id-3 div.sk-item {position: relative;z-index: 1;}#sk-container-id-3 div.sk-parallel {display: flex;align-items: stretch;justify-content: center;background-color: white;position: relative;}#sk-container-id-3 div.sk-item::before, #sk-container-id-3 div.sk-parallel-item::before {content: \"\";position: absolute;border-left: 1px solid gray;box-sizing: border-box;top: 0;bottom: 0;left: 50%;z-index: -1;}#sk-container-id-3 div.sk-parallel-item {display: flex;flex-direction: column;z-index: 1;position: relative;background-color: white;}#sk-container-id-3 div.sk-parallel-item:first-child::after {align-self: flex-end;width: 50%;}#sk-container-id-3 div.sk-parallel-item:last-child::after {align-self: flex-start;width: 50%;}#sk-container-id-3 div.sk-parallel-item:only-child::after {width: 0;}#sk-container-id-3 div.sk-dashed-wrapped {border: 1px dashed gray;margin: 0 0.4em 0.5em 0.4em;box-sizing: border-box;padding-bottom: 0.4em;background-color: white;}#sk-container-id-3 div.sk-label label {font-family: monospace;font-weight: bold;display: inline-block;line-height: 1.2em;}#sk-container-id-3 div.sk-label-container {text-align: center;}#sk-container-id-3 div.sk-container {/* jupyter's `normalize.less` sets `[hidden] { display: none; }` but bootstrap.min.css set `[hidden] { display: none !important; }` so we also need the `!important` here to be able to override the default hidden behavior on the sphinx rendered scikit-learn.org. See: https://github.com/scikit-learn/scikit-learn/issues/21755 */display: inline-block !important;position: relative;}#sk-container-id-3 div.sk-text-repr-fallback {display: none;}</style><div id=\"sk-container-id-3\" class=\"sk-top-container\"><div class=\"sk-text-repr-fallback\"><pre>RandomForestClassifier(max_depth=3, min_samples_split=3, n_estimators=50)</pre><b>In a Jupyter environment, please rerun this cell to show the HTML representation or trust the notebook. <br />On GitHub, the HTML representation is unable to render, please try loading this page with nbviewer.org.</b></div><div class=\"sk-container\" hidden><div class=\"sk-item\"><div class=\"sk-estimator sk-toggleable\"><input class=\"sk-toggleable__control sk-hidden--visually\" id=\"sk-estimator-id-7\" type=\"checkbox\" checked><label for=\"sk-estimator-id-7\" class=\"sk-toggleable__label sk-toggleable__label-arrow\">RandomForestClassifier</label><div class=\"sk-toggleable__content\"><pre>RandomForestClassifier(max_depth=3, min_samples_split=3, n_estimators=50)</pre></div></div></div></div></div>"
      ],
      "text/plain": [
       "RandomForestClassifier(max_depth=3, min_samples_split=3, n_estimators=50)"
      ]
     },
     "execution_count": 54,
     "metadata": {},
     "output_type": "execute_result"
    }
   ],
   "source": [
    "clf_rf.best_estimator_"
   ]
  },
  {
   "cell_type": "code",
   "execution_count": 55,
   "id": "8053d2ce-db24-4081-bdb6-d3af8d0a0a32",
   "metadata": {},
   "outputs": [
    {
     "data": {
      "text/plain": [
       "{'criterion': 'gini',\n",
       " 'max_depth': 3,\n",
       " 'min_samples_leaf': 1,\n",
       " 'min_samples_split': 3,\n",
       " 'n_estimators': 50}"
      ]
     },
     "execution_count": 55,
     "metadata": {},
     "output_type": "execute_result"
    }
   ],
   "source": [
    "clf_rf.best_params_"
   ]
  },
  {
   "cell_type": "code",
   "execution_count": 78,
   "id": "63da908a-3788-4ebf-8f8c-03268fc043a0",
   "metadata": {},
   "outputs": [
    {
     "data": {
      "text/plain": [
       "0.7961760461760462"
      ]
     },
     "execution_count": 78,
     "metadata": {},
     "output_type": "execute_result"
    }
   ],
   "source": [
    "random_forest_best = RandomForestClassifier(\n",
    "    n_estimators=50,\n",
    "    criterion=\"gini\",\n",
    "    max_depth=3,\n",
    "    min_samples_split=3,\n",
    "    min_samples_leaf=1,\n",
    ")\n",
    "random_forest_best.fit(X_train, y_train)\n",
    "\n",
    "predicted_val_rf = random_forest_best.predict(X_val)\n",
    "roc_auc_score(y_val, predicted_val_rf)"
   ]
  },
  {
   "cell_type": "code",
   "execution_count": 79,
   "id": "4eaed4e0-03da-48ce-aa8b-ca416e9e5134",
   "metadata": {},
   "outputs": [
    {
     "data": {
      "text/plain": [
       "0.7649967864029138"
      ]
     },
     "execution_count": 79,
     "metadata": {},
     "output_type": "execute_result"
    }
   ],
   "source": [
    "predicted_test_rf = random_forest_best.predict(X_test)\n",
    "rf_roc_auc = roc_auc_score(y_test, predicted_test_rf)\n",
    "rf_roc_auc"
   ]
  },
  {
   "cell_type": "code",
   "execution_count": 80,
   "id": "536f701f-8dec-4e71-87b5-b8f6ae50b5c5",
   "metadata": {},
   "outputs": [
    {
     "data": {
      "image/png": "[encoded data removed]",
      "text/plain": [
       "<Figure size 1000x600 with 1 Axes>"
      ]
     },
     "metadata": {},
     "output_type": "display_data"
    }
   ],
   "source": [
    "feature_names = dv.get_feature_names_out()\n",
    "\n",
    "feature_importance = pd.DataFrame(\n",
    "    {\"Feature\":  feature_names, \"Importance\": random_forest_best.feature_importances_}\n",
    ")\n",
    "feature_importance = feature_importance.sort_values(\"Importance\", ascending=True)\n",
    "feature_importance.plot(x=\"Feature\", y=\"Importance\", kind=\"barh\", figsize=(10, 6))\n",
    "plt.title(\"Feature Importance\")\n",
    "plt.show()"
   ]
  },
  {
   "cell_type": "markdown",
   "id": "470941e1-1c76-4f1e-be98-051b97746890",
   "metadata": {},
   "source": [
    "XGBoost with hyperparameters tuning"
   ]
  },
  {
   "cell_type": "code",
   "execution_count": 81,
   "id": "a160bc60-9bb0-4462-974d-85b08d67ba7a",
   "metadata": {},
   "outputs": [
    {
     "data": {
      "text/html": [
       "<style>#sk-container-id-6 {color: black;background-color: white;}#sk-container-id-6 pre{padding: 0;}#sk-container-id-6 div.sk-toggleable {background-color: white;}#sk-container-id-6 label.sk-toggleable__label {cursor: pointer;display: block;width: 100%;margin-bottom: 0;padding: 0.3em;box-sizing: border-box;text-align: center;}#sk-container-id-6 label.sk-toggleable__label-arrow:before {content: \"▸\";float: left;margin-right: 0.25em;color: #696969;}#sk-container-id-6 label.sk-toggleable__label-arrow:hover:before {color: black;}#sk-container-id-6 div.sk-estimator:hover label.sk-toggleable__label-arrow:before {color: black;}#sk-container-id-6 div.sk-toggleable__content {max-height: 0;max-width: 0;overflow: hidden;text-align: left;background-color: #f0f8ff;}#sk-container-id-6 div.sk-toggleable__content pre {margin: 0.2em;color: black;border-radius: 0.25em;background-color: #f0f8ff;}#sk-container-id-6 input.sk-toggleable__control:checked~div.sk-toggleable__content {max-height: 200px;max-width: 100%;overflow: auto;}#sk-container-id-6 input.sk-toggleable__control:checked~label.sk-toggleable__label-arrow:before {content: \"▾\";}#sk-container-id-6 div.sk-estimator input.sk-toggleable__control:checked~label.sk-toggleable__label {background-color: #d4ebff;}#sk-container-id-6 div.sk-label input.sk-toggleable__control:checked~label.sk-toggleable__label {background-color: #d4ebff;}#sk-container-id-6 input.sk-hidden--visually {border: 0;clip: rect(1px 1px 1px 1px);clip: rect(1px, 1px, 1px, 1px);height: 1px;margin: -1px;overflow: hidden;padding: 0;position: absolute;width: 1px;}#sk-container-id-6 div.sk-estimator {font-family: monospace;background-color: #f0f8ff;border: 1px dotted black;border-radius: 0.25em;box-sizing: border-box;margin-bottom: 0.5em;}#sk-container-id-6 div.sk-estimator:hover {background-color: #d4ebff;}#sk-container-id-6 div.sk-parallel-item::after {content: \"\";width: 100%;border-bottom: 1px solid gray;flex-grow: 1;}#sk-container-id-6 div.sk-label:hover label.sk-toggleable__label {background-color: #d4ebff;}#sk-container-id-6 div.sk-serial::before {content: \"\";position: absolute;border-left: 1px solid gray;box-sizing: border-box;top: 0;bottom: 0;left: 50%;z-index: 0;}#sk-container-id-6 div.sk-serial {display: flex;flex-direction: column;align-items: center;background-color: white;padding-right: 0.2em;padding-left: 0.2em;position: relative;}#sk-container-id-6 div.sk-item {position: relative;z-index: 1;}#sk-container-id-6 div.sk-parallel {display: flex;align-items: stretch;justify-content: center;background-color: white;position: relative;}#sk-container-id-6 div.sk-item::before, #sk-container-id-6 div.sk-parallel-item::before {content: \"\";position: absolute;border-left: 1px solid gray;box-sizing: border-box;top: 0;bottom: 0;left: 50%;z-index: -1;}#sk-container-id-6 div.sk-parallel-item {display: flex;flex-direction: column;z-index: 1;position: relative;background-color: white;}#sk-container-id-6 div.sk-parallel-item:first-child::after {align-self: flex-end;width: 50%;}#sk-container-id-6 div.sk-parallel-item:last-child::after {align-self: flex-start;width: 50%;}#sk-container-id-6 div.sk-parallel-item:only-child::after {width: 0;}#sk-container-id-6 div.sk-dashed-wrapped {border: 1px dashed gray;margin: 0 0.4em 0.5em 0.4em;box-sizing: border-box;padding-bottom: 0.4em;background-color: white;}#sk-container-id-6 div.sk-label label {font-family: monospace;font-weight: bold;display: inline-block;line-height: 1.2em;}#sk-container-id-6 div.sk-label-container {text-align: center;}#sk-container-id-6 div.sk-container {/* jupyter's `normalize.less` sets `[hidden] { display: none; }` but bootstrap.min.css set `[hidden] { display: none !important; }` so we also need the `!important` here to be able to override the default hidden behavior on the sphinx rendered scikit-learn.org. See: https://github.com/scikit-learn/scikit-learn/issues/21755 */display: inline-block !important;position: relative;}#sk-container-id-6 div.sk-text-repr-fallback {display: none;}</style><div id=\"sk-container-id-6\" class=\"sk-top-container\"><div class=\"sk-text-repr-fallback\"><pre>GridSearchCV(estimator=XGBClassifier(base_score=None, booster=None,\n",
       "                                     callbacks=None, colsample_bylevel=None,\n",
       "                                     colsample_bynode=None,\n",
       "                                     colsample_bytree=None, device=None,\n",
       "                                     early_stopping_rounds=None,\n",
       "                                     enable_categorical=False, eval_metric=None,\n",
       "                                     feature_types=None, gamma=None,\n",
       "                                     grow_policy=None, importance_type=None,\n",
       "                                     interaction_constraints=None,\n",
       "                                     learning_rate=None, max_b...\n",
       "                                     max_cat_to_onehot=None,\n",
       "                                     max_delta_step=None, max_depth=None,\n",
       "                                     max_leaves=None, min_child_weight=None,\n",
       "                                     missing=nan, monotone_constraints=None,\n",
       "                                     multi_strategy=None, n_estimators=None,\n",
       "                                     n_jobs=None, num_parallel_tree=None,\n",
       "                                     random_state=None, ...),\n",
       "             param_grid={&#x27;eta&#x27;: [0.3, 0.5, 0.7], &#x27;max_depth&#x27;: [1, 2, 3, 4],\n",
       "                         &#x27;min_child_weight&#x27;: [1, 2, 3, 10, 15],\n",
       "                         &#x27;objective&#x27;: [&#x27;binary:logistic&#x27;]})</pre><b>In a Jupyter environment, please rerun this cell to show the HTML representation or trust the notebook. <br />On GitHub, the HTML representation is unable to render, please try loading this page with nbviewer.org.</b></div><div class=\"sk-container\" hidden><div class=\"sk-item sk-dashed-wrapped\"><div class=\"sk-label-container\"><div class=\"sk-label sk-toggleable\"><input class=\"sk-toggleable__control sk-hidden--visually\" id=\"sk-estimator-id-12\" type=\"checkbox\" ><label for=\"sk-estimator-id-12\" class=\"sk-toggleable__label sk-toggleable__label-arrow\">GridSearchCV</label><div class=\"sk-toggleable__content\"><pre>GridSearchCV(estimator=XGBClassifier(base_score=None, booster=None,\n",
       "                                     callbacks=None, colsample_bylevel=None,\n",
       "                                     colsample_bynode=None,\n",
       "                                     colsample_bytree=None, device=None,\n",
       "                                     early_stopping_rounds=None,\n",
       "                                     enable_categorical=False, eval_metric=None,\n",
       "                                     feature_types=None, gamma=None,\n",
       "                                     grow_policy=None, importance_type=None,\n",
       "                                     interaction_constraints=None,\n",
       "                                     learning_rate=None, max_b...\n",
       "                                     max_cat_to_onehot=None,\n",
       "                                     max_delta_step=None, max_depth=None,\n",
       "                                     max_leaves=None, min_child_weight=None,\n",
       "                                     missing=nan, monotone_constraints=None,\n",
       "                                     multi_strategy=None, n_estimators=None,\n",
       "                                     n_jobs=None, num_parallel_tree=None,\n",
       "                                     random_state=None, ...),\n",
       "             param_grid={&#x27;eta&#x27;: [0.3, 0.5, 0.7], &#x27;max_depth&#x27;: [1, 2, 3, 4],\n",
       "                         &#x27;min_child_weight&#x27;: [1, 2, 3, 10, 15],\n",
       "                         &#x27;objective&#x27;: [&#x27;binary:logistic&#x27;]})</pre></div></div></div><div class=\"sk-parallel\"><div class=\"sk-parallel-item\"><div class=\"sk-item\"><div class=\"sk-label-container\"><div class=\"sk-label sk-toggleable\"><input class=\"sk-toggleable__control sk-hidden--visually\" id=\"sk-estimator-id-13\" type=\"checkbox\" ><label for=\"sk-estimator-id-13\" class=\"sk-toggleable__label sk-toggleable__label-arrow\">estimator: XGBClassifier</label><div class=\"sk-toggleable__content\"><pre>XGBClassifier(base_score=None, booster=None, callbacks=None,\n",
       "              colsample_bylevel=None, colsample_bynode=None,\n",
       "              colsample_bytree=None, device=None, early_stopping_rounds=None,\n",
       "              enable_categorical=False, eval_metric=None, feature_types=None,\n",
       "              gamma=None, grow_policy=None, importance_type=None,\n",
       "              interaction_constraints=None, learning_rate=None, max_bin=None,\n",
       "              max_cat_threshold=None, max_cat_to_onehot=None,\n",
       "              max_delta_step=None, max_depth=None, max_leaves=None,\n",
       "              min_child_weight=None, missing=nan, monotone_constraints=None,\n",
       "              multi_strategy=None, n_estimators=None, n_jobs=None,\n",
       "              num_parallel_tree=None, random_state=None, ...)</pre></div></div></div><div class=\"sk-serial\"><div class=\"sk-item\"><div class=\"sk-estimator sk-toggleable\"><input class=\"sk-toggleable__control sk-hidden--visually\" id=\"sk-estimator-id-14\" type=\"checkbox\" ><label for=\"sk-estimator-id-14\" class=\"sk-toggleable__label sk-toggleable__label-arrow\">XGBClassifier</label><div class=\"sk-toggleable__content\"><pre>XGBClassifier(base_score=None, booster=None, callbacks=None,\n",
       "              colsample_bylevel=None, colsample_bynode=None,\n",
       "              colsample_bytree=None, device=None, early_stopping_rounds=None,\n",
       "              enable_categorical=False, eval_metric=None, feature_types=None,\n",
       "              gamma=None, grow_policy=None, importance_type=None,\n",
       "              interaction_constraints=None, learning_rate=None, max_bin=None,\n",
       "              max_cat_threshold=None, max_cat_to_onehot=None,\n",
       "              max_delta_step=None, max_depth=None, max_leaves=None,\n",
       "              min_child_weight=None, missing=nan, monotone_constraints=None,\n",
       "              multi_strategy=None, n_estimators=None, n_jobs=None,\n",
       "              num_parallel_tree=None, random_state=None, ...)</pre></div></div></div></div></div></div></div></div></div></div>"
      ],
      "text/plain": [
       "GridSearchCV(estimator=XGBClassifier(base_score=None, booster=None,\n",
       "                                     callbacks=None, colsample_bylevel=None,\n",
       "                                     colsample_bynode=None,\n",
       "                                     colsample_bytree=None, device=None,\n",
       "                                     early_stopping_rounds=None,\n",
       "                                     enable_categorical=False, eval_metric=None,\n",
       "                                     feature_types=None, gamma=None,\n",
       "                                     grow_policy=None, importance_type=None,\n",
       "                                     interaction_constraints=None,\n",
       "                                     learning_rate=None, max_b...\n",
       "                                     max_cat_to_onehot=None,\n",
       "                                     max_delta_step=None, max_depth=None,\n",
       "                                     max_leaves=None, min_child_weight=None,\n",
       "                                     missing=nan, monotone_constraints=None,\n",
       "                                     multi_strategy=None, n_estimators=None,\n",
       "                                     n_jobs=None, num_parallel_tree=None,\n",
       "                                     random_state=None, ...),\n",
       "             param_grid={'eta': [0.3, 0.5, 0.7], 'max_depth': [1, 2, 3, 4],\n",
       "                         'min_child_weight': [1, 2, 3, 10, 15],\n",
       "                         'objective': ['binary:logistic']})"
      ]
     },
     "execution_count": 81,
     "metadata": {},
     "output_type": "execute_result"
    }
   ],
   "source": [
    "# Set the parameters dictionary\n",
    "parameters = {\n",
    "    \"eta\": [0.3, 0.5, 0.7],\n",
    "    \"max_depth\": [1, 2, 3, 4],\n",
    "    \"min_child_weight\": [1, 2, 3, 10, 15],\n",
    "    \"objective\": [\"binary:logistic\"],\n",
    "}\n",
    "\n",
    "# Instantiate the model and classifier\n",
    "xgb_classifier = XGBClassifier()\n",
    "clf_xgb = GridSearchCV(xgb_classifier, parameters)\n",
    "\n",
    "# Fit\n",
    "clf_xgb.fit(X_train, y_train)"
   ]
  },
  {
   "cell_type": "code",
   "execution_count": 82,
   "id": "44042d58-d5fe-44a5-a94f-ccba613a265f",
   "metadata": {},
   "outputs": [
    {
     "data": {
      "text/html": [
       "<style>#sk-container-id-7 {color: black;background-color: white;}#sk-container-id-7 pre{padding: 0;}#sk-container-id-7 div.sk-toggleable {background-color: white;}#sk-container-id-7 label.sk-toggleable__label {cursor: pointer;display: block;width: 100%;margin-bottom: 0;padding: 0.3em;box-sizing: border-box;text-align: center;}#sk-container-id-7 label.sk-toggleable__label-arrow:before {content: \"▸\";float: left;margin-right: 0.25em;color: #696969;}#sk-container-id-7 label.sk-toggleable__label-arrow:hover:before {color: black;}#sk-container-id-7 div.sk-estimator:hover label.sk-toggleable__label-arrow:before {color: black;}#sk-container-id-7 div.sk-toggleable__content {max-height: 0;max-width: 0;overflow: hidden;text-align: left;background-color: #f0f8ff;}#sk-container-id-7 div.sk-toggleable__content pre {margin: 0.2em;color: black;border-radius: 0.25em;background-color: #f0f8ff;}#sk-container-id-7 input.sk-toggleable__control:checked~div.sk-toggleable__content {max-height: 200px;max-width: 100%;overflow: auto;}#sk-container-id-7 input.sk-toggleable__control:checked~label.sk-toggleable__label-arrow:before {content: \"▾\";}#sk-container-id-7 div.sk-estimator input.sk-toggleable__control:checked~label.sk-toggleable__label {background-color: #d4ebff;}#sk-container-id-7 div.sk-label input.sk-toggleable__control:checked~label.sk-toggleable__label {background-color: #d4ebff;}#sk-container-id-7 input.sk-hidden--visually {border: 0;clip: rect(1px 1px 1px 1px);clip: rect(1px, 1px, 1px, 1px);height: 1px;margin: -1px;overflow: hidden;padding: 0;position: absolute;width: 1px;}#sk-container-id-7 div.sk-estimator {font-family: monospace;background-color: #f0f8ff;border: 1px dotted black;border-radius: 0.25em;box-sizing: border-box;margin-bottom: 0.5em;}#sk-container-id-7 div.sk-estimator:hover {background-color: #d4ebff;}#sk-container-id-7 div.sk-parallel-item::after {content: \"\";width: 100%;border-bottom: 1px solid gray;flex-grow: 1;}#sk-container-id-7 div.sk-label:hover label.sk-toggleable__label {background-color: #d4ebff;}#sk-container-id-7 div.sk-serial::before {content: \"\";position: absolute;border-left: 1px solid gray;box-sizing: border-box;top: 0;bottom: 0;left: 50%;z-index: 0;}#sk-container-id-7 div.sk-serial {display: flex;flex-direction: column;align-items: center;background-color: white;padding-right: 0.2em;padding-left: 0.2em;position: relative;}#sk-container-id-7 div.sk-item {position: relative;z-index: 1;}#sk-container-id-7 div.sk-parallel {display: flex;align-items: stretch;justify-content: center;background-color: white;position: relative;}#sk-container-id-7 div.sk-item::before, #sk-container-id-7 div.sk-parallel-item::before {content: \"\";position: absolute;border-left: 1px solid gray;box-sizing: border-box;top: 0;bottom: 0;left: 50%;z-index: -1;}#sk-container-id-7 div.sk-parallel-item {display: flex;flex-direction: column;z-index: 1;position: relative;background-color: white;}#sk-container-id-7 div.sk-parallel-item:first-child::after {align-self: flex-end;width: 50%;}#sk-container-id-7 div.sk-parallel-item:last-child::after {align-self: flex-start;width: 50%;}#sk-container-id-7 div.sk-parallel-item:only-child::after {width: 0;}#sk-container-id-7 div.sk-dashed-wrapped {border: 1px dashed gray;margin: 0 0.4em 0.5em 0.4em;box-sizing: border-box;padding-bottom: 0.4em;background-color: white;}#sk-container-id-7 div.sk-label label {font-family: monospace;font-weight: bold;display: inline-block;line-height: 1.2em;}#sk-container-id-7 div.sk-label-container {text-align: center;}#sk-container-id-7 div.sk-container {/* jupyter's `normalize.less` sets `[hidden] { display: none; }` but bootstrap.min.css set `[hidden] { display: none !important; }` so we also need the `!important` here to be able to override the default hidden behavior on the sphinx rendered scikit-learn.org. See: https://github.com/scikit-learn/scikit-learn/issues/21755 */display: inline-block !important;position: relative;}#sk-container-id-7 div.sk-text-repr-fallback {display: none;}</style><div id=\"sk-container-id-7\" class=\"sk-top-container\"><div class=\"sk-text-repr-fallback\"><pre>XGBClassifier(base_score=None, booster=None, callbacks=None,\n",
       "              colsample_bylevel=None, colsample_bynode=None,\n",
       "              colsample_bytree=None, device=None, early_stopping_rounds=None,\n",
       "              enable_categorical=False, eta=0.5, eval_metric=None,\n",
       "              feature_types=None, gamma=None, grow_policy=None,\n",
       "              importance_type=None, interaction_constraints=None,\n",
       "              learning_rate=None, max_bin=None, max_cat_threshold=None,\n",
       "              max_cat_to_onehot=None, max_delta_step=None, max_depth=4,\n",
       "              max_leaves=None, min_child_weight=1, missing=nan,\n",
       "              monotone_constraints=None, multi_strategy=None, n_estimators=None,\n",
       "              n_jobs=None, num_parallel_tree=None, ...)</pre><b>In a Jupyter environment, please rerun this cell to show the HTML representation or trust the notebook. <br />On GitHub, the HTML representation is unable to render, please try loading this page with nbviewer.org.</b></div><div class=\"sk-container\" hidden><div class=\"sk-item\"><div class=\"sk-estimator sk-toggleable\"><input class=\"sk-toggleable__control sk-hidden--visually\" id=\"sk-estimator-id-15\" type=\"checkbox\" checked><label for=\"sk-estimator-id-15\" class=\"sk-toggleable__label sk-toggleable__label-arrow\">XGBClassifier</label><div class=\"sk-toggleable__content\"><pre>XGBClassifier(base_score=None, booster=None, callbacks=None,\n",
       "              colsample_bylevel=None, colsample_bynode=None,\n",
       "              colsample_bytree=None, device=None, early_stopping_rounds=None,\n",
       "              enable_categorical=False, eta=0.5, eval_metric=None,\n",
       "              feature_types=None, gamma=None, grow_policy=None,\n",
       "              importance_type=None, interaction_constraints=None,\n",
       "              learning_rate=None, max_bin=None, max_cat_threshold=None,\n",
       "              max_cat_to_onehot=None, max_delta_step=None, max_depth=4,\n",
       "              max_leaves=None, min_child_weight=1, missing=nan,\n",
       "              monotone_constraints=None, multi_strategy=None, n_estimators=None,\n",
       "              n_jobs=None, num_parallel_tree=None, ...)</pre></div></div></div></div></div>"
      ],
      "text/plain": [
       "XGBClassifier(base_score=None, booster=None, callbacks=None,\n",
       "              colsample_bylevel=None, colsample_bynode=None,\n",
       "              colsample_bytree=None, device=None, early_stopping_rounds=None,\n",
       "              enable_categorical=False, eta=0.5, eval_metric=None,\n",
       "              feature_types=None, gamma=None, grow_policy=None,\n",
       "              importance_type=None, interaction_constraints=None,\n",
       "              learning_rate=None, max_bin=None, max_cat_threshold=None,\n",
       "              max_cat_to_onehot=None, max_delta_step=None, max_depth=4,\n",
       "              max_leaves=None, min_child_weight=1, missing=nan,\n",
       "              monotone_constraints=None, multi_strategy=None, n_estimators=None,\n",
       "              n_jobs=None, num_parallel_tree=None, ...)"
      ]
     },
     "execution_count": 82,
     "metadata": {},
     "output_type": "execute_result"
    }
   ],
   "source": [
    "clf_xgb.best_estimator_"
   ]
  },
  {
   "cell_type": "code",
   "execution_count": 83,
   "id": "ba549d35-ba8e-4e97-a882-e8e808585da7",
   "metadata": {},
   "outputs": [
    {
     "data": {
      "text/plain": [
       "{'eta': 0.5,\n",
       " 'max_depth': 4,\n",
       " 'min_child_weight': 1,\n",
       " 'objective': 'binary:logistic'}"
      ]
     },
     "execution_count": 83,
     "metadata": {},
     "output_type": "execute_result"
    }
   ],
   "source": [
    "clf_xgb.best_params_"
   ]
  },
  {
   "cell_type": "code",
   "execution_count": 84,
   "id": "c6a53712-f877-4b13-b282-eb1431c6fe19",
   "metadata": {},
   "outputs": [
    {
     "data": {
      "text/plain": [
       "0.8856432343741988"
      ]
     },
     "execution_count": 84,
     "metadata": {},
     "output_type": "execute_result"
    }
   ],
   "source": [
    "clf_xgb.best_score_"
   ]
  },
  {
   "cell_type": "code",
   "execution_count": 85,
   "id": "e161a5f0-e815-4e2e-8337-55d4b918f28f",
   "metadata": {},
   "outputs": [
    {
     "data": {
      "text/plain": [
       "0.8089006952643315"
      ]
     },
     "execution_count": 85,
     "metadata": {},
     "output_type": "execute_result"
    }
   ],
   "source": [
    "xgboost_best = XGBClassifier(eta=0.5, max_depth=4, min_child_weight=1)\n",
    "xgboost_best.fit(X_train, y_train)\n",
    "\n",
    "predicted_val_xgb = xgboost_best.predict(X_val)\n",
    "roc_auc_score(y_val, predicted_val_xgb)"
   ]
  },
  {
   "cell_type": "code",
   "execution_count": 88,
   "id": "893d3392-c28c-44bb-8b5e-47fcab968e3e",
   "metadata": {},
   "outputs": [
    {
     "data": {
      "text/plain": [
       "0.7447154181246876"
      ]
     },
     "execution_count": 88,
     "metadata": {},
     "output_type": "execute_result"
    }
   ],
   "source": [
    "predicted_test_xgb = xgboost_best.predict(X_test)\n",
    "xgb_roc_auc = roc_auc_score(y_test, predicted_test_xgb)\n",
    "xgb_roc_auc"
   ]
  },
  {
   "cell_type": "code",
   "execution_count": 91,
   "id": "80e7ac62-5936-4e54-b665-04120bb4f573",
   "metadata": {},
   "outputs": [
    {
     "data": {
      "image/png": "[encoded data removed]",
      "text/plain": [
       "<Figure size 1000x600 with 1 Axes>"
      ]
     },
     "metadata": {},
     "output_type": "display_data"
    }
   ],
   "source": [
    "feature_names = dv.get_feature_names_out()\n",
    "\n",
    "feature_importance = pd.DataFrame(\n",
    "    {\"Feature\": feature_names, \"Importance\": xgboost_best.feature_importances_}\n",
    ")\n",
    "feature_importance = feature_importance.sort_values(\"Importance\", ascending=True)\n",
    "feature_importance.plot(x=\"Feature\", y=\"Importance\", kind=\"barh\", figsize=(10, 6))\n",
    "plt.title(\"Feature Importance\")\n",
    "plt.show()"
   ]
  },
  {
   "cell_type": "code",
   "execution_count": 92,
   "id": "21008bcb-5ae3-45a4-9abe-fae0ab69b4c8",
   "metadata": {},
   "outputs": [],
   "source": [
    "roc_auc_dict = {\n",
    "    \"LogisticRegression\": log_reg_roc_auc,\n",
    "    \"RandomForestClassifier\": rf_roc_auc,\n",
    "    \"XGBoostClassifier\": xgb_roc_auc,\n",
    "}"
   ]
  },
  {
   "cell_type": "code",
   "execution_count": 93,
   "id": "a489a873-6000-4018-8f57-d0436fe8a8e1",
   "metadata": {},
   "outputs": [
    {
     "data": {
      "text/plain": [
       "{'LogisticRegression': 0.7695850889095194,\n",
       " 'RandomForestClassifier': 0.7649967864029138,\n",
       " 'XGBoostClassifier': 0.7447154181246876}"
      ]
     },
     "execution_count": 93,
     "metadata": {},
     "output_type": "execute_result"
    }
   ],
   "source": [
    "roc_auc_dict"
   ]
  },
  {
   "cell_type": "code",
   "execution_count": null,
   "id": "01d1599b-7ffc-4591-905b-222cee74d1a9",
   "metadata": {},
   "outputs": [],
   "source": []
  },
  {
   "cell_type": "code",
   "execution_count": null,
   "id": "cba7798c-73d5-422e-84bb-14fd76d06f7b",
   "metadata": {},
   "outputs": [],
   "source": []
  },
  {
   "cell_type": "code",
   "execution_count": 42,
   "id": "39a605d0-6ce6-4a4a-aafa-9110993e9a4b",
   "metadata": {},
   "outputs": [
    {
     "name": "stdout",
     "output_type": "stream",
     "text": [
      "LR Model:Mean accuracy is 0.821944 (Std accuracy is 0.035595)\n",
      "RandF Model:Mean accuracy is 0.887631 (Std accuracy is 0.034308)\n",
      "CART Model:Mean accuracy is 0.875500 (Std accuracy is 0.020820)\n",
      "SVM Model:Mean accuracy is 0.831004 (Std accuracy is 0.034571)\n",
      "NB Model:Mean accuracy is 0.796609 (Std accuracy is 0.031799)\n",
      "KNN Model:Mean accuracy is 0.829015 (Std accuracy is 0.033965)\n"
     ]
    }
   ],
   "source": [
    "scoring = 'accuracy'\n",
    "\n",
    "# Define models to train\n",
    "models= []\n",
    "models.append(('LR', LogisticRegression(solver='liblinear', random_state=1,max_iter=500)))\n",
    "models.append(('RandF', RandomForestClassifier(n_estimators=10, random_state=1, n_jobs=-1)))\n",
    "models.append(('CART', DecisionTreeClassifier()))\n",
    "models.append(('SVM', SVC())) \n",
    "models.append(('NB', GaussianNB()))\n",
    "models.append(('KNN', KNeighborsClassifier()))\n",
    "\n",
    "# evaluate each model in turn\n",
    "results = []\n",
    "names = []\n",
    "\n",
    "for name, model in models:\n",
    "    kfold = KFold(n_splits=10)\n",
    "    cv_results = cross_val_score(model, X_train, y_train, cv=kfold, scoring=scoring)\n",
    "    results.append(cv_results)\n",
    "    names.append(name)\n",
    "    msg = \"%s Model:Mean accuracy is %f (Std accuracy is %f)\" % (name, cv_results.mean(), cv_results.std())\n",
    "    print(msg)"
   ]
  },
  {
   "cell_type": "code",
   "execution_count": 43,
   "id": "5a8443a4-0a26-4419-9007-415adf87ddc2",
   "metadata": {},
   "outputs": [
    {
     "data": {
      "image/png": "[encoded data removed]",
      "text/plain": [
       "<Figure size 1000x600 with 1 Axes>"
      ]
     },
     "metadata": {},
     "output_type": "display_data"
    },
    {
     "data": {
      "image/png": "[encoded data removed]",
      "text/plain": [
       "<Figure size 1000x1000 with 1 Axes>"
      ]
     },
     "metadata": {},
     "output_type": "display_data"
    }
   ],
   "source": [
    "fig = plt.figure(figsize=(10,10))\n",
    "fig.suptitle('Performance Comparison')\n",
    "ax = fig.add_subplot(111)\n",
    "plt.boxplot(results)\n",
    "ax.set_xticklabels(names)\n",
    "plt.show()"
   ]
  },
  {
   "cell_type": "code",
   "execution_count": 44,
   "id": "6c348417-4b61-41a5-9971-6f890fd3a23e",
   "metadata": {},
   "outputs": [
    {
     "name": "stdout",
     "output_type": "stream",
     "text": [
      "\n",
      "Model: LR\n",
      "Accuracy score: 0.7551020408163265\n",
      "Classification report:\n",
      "               precision    recall  f1-score   support\n",
      "\n",
      "           0       0.87      0.70      0.78       209\n",
      "           1       0.64      0.84      0.73       134\n",
      "\n",
      "    accuracy                           0.76       343\n",
      "   macro avg       0.76      0.77      0.75       343\n",
      "weighted avg       0.78      0.76      0.76       343\n",
      "\n",
      "\n",
      "Model: RandF\n",
      "Accuracy score: 0.7434402332361516\n",
      "Classification report:\n",
      "               precision    recall  f1-score   support\n",
      "\n",
      "           0       0.80      0.78      0.79       209\n",
      "           1       0.66      0.69      0.68       134\n",
      "\n",
      "    accuracy                           0.74       343\n",
      "   macro avg       0.73      0.73      0.73       343\n",
      "weighted avg       0.75      0.74      0.74       343\n",
      "\n",
      "\n",
      "Model: CART\n",
      "Accuracy score: 0.7521865889212828\n",
      "Classification report:\n",
      "               precision    recall  f1-score   support\n",
      "\n",
      "           0       0.81      0.78      0.79       209\n",
      "           1       0.67      0.71      0.69       134\n",
      "\n",
      "    accuracy                           0.75       343\n",
      "   macro avg       0.74      0.74      0.74       343\n",
      "weighted avg       0.75      0.75      0.75       343\n",
      "\n",
      "\n",
      "Model: SVM\n",
      "Accuracy score: 0.760932944606414\n",
      "Classification report:\n",
      "               precision    recall  f1-score   support\n",
      "\n",
      "           0       0.87      0.72      0.79       209\n",
      "           1       0.65      0.83      0.73       134\n",
      "\n",
      "    accuracy                           0.76       343\n",
      "   macro avg       0.76      0.77      0.76       343\n",
      "weighted avg       0.78      0.76      0.76       343\n",
      "\n",
      "\n",
      "Model: NB\n",
      "Accuracy score: 0.7201166180758017\n",
      "Classification report:\n",
      "               precision    recall  f1-score   support\n",
      "\n",
      "           0       0.88      0.62      0.73       209\n",
      "           1       0.60      0.87      0.71       134\n",
      "\n",
      "    accuracy                           0.72       343\n",
      "   macro avg       0.74      0.75      0.72       343\n",
      "weighted avg       0.77      0.72      0.72       343\n",
      "\n",
      "\n",
      "Model: KNN\n",
      "Accuracy score: 0.7580174927113703\n",
      "Classification report:\n",
      "               precision    recall  f1-score   support\n",
      "\n",
      "           0       0.84      0.75      0.79       209\n",
      "           1       0.66      0.77      0.71       134\n",
      "\n",
      "    accuracy                           0.76       343\n",
      "   macro avg       0.75      0.76      0.75       343\n",
      "weighted avg       0.77      0.76      0.76       343\n",
      "\n"
     ]
    }
   ],
   "source": [
    "# Make predictions on validation dataset\n",
    "\n",
    "for name, model in models:\n",
    "    model.fit(X_train, y_train)\n",
    "    predictions = model.predict(X_test)\n",
    "    print(\"\\nModel:\",name)\n",
    "    print(\"Accuracy score:\",accuracy_score(y_test, predictions))\n",
    "    print(\"Classification report:\\n\",classification_report(y_test, predictions))\n",
    "    \n",
    "# Accuracy - ratio of correctly predicted observation to the total observations. \n",
    "# Precision - (false positives) ratio of correctly predicted positive observations to the total predicted positive observations\n",
    "# Recall (Sensitivity) - (false negatives) ratio of correctly predicted positive observations to the all observations in actual class - yes.\n",
    "# F1 score - F1 Score is the weighted average of Precision and Recall. Therefore, this score takes both false positives and false "
   ]
  },
  {
   "cell_type": "code",
   "execution_count": 45,
   "id": "2173e1b0-d5b8-4a49-96d6-4d72ab12e9f1",
   "metadata": {},
   "outputs": [
    {
     "name": "stdout",
     "output_type": "stream",
     "text": [
      "Test Accuracy: 0.760932944606414\n"
     ]
    },
    {
     "data": {
      "text/plain": [
       "array([1, 1, 0, 1, 0, 0, 1, 1, 0, 1, 1, 0, 1, 1, 1, 1, 1, 1, 1, 0, 0, 0,\n",
       "       0, 0, 0, 0, 1, 1, 0, 0, 0, 1, 1, 0, 0, 0, 0, 0, 0, 1, 1, 0, 0, 0,\n",
       "       0, 0, 1, 0, 0, 1, 1, 1, 1, 1, 1, 0, 0, 0, 0, 0, 0, 1, 1, 1, 1, 0,\n",
       "       1, 1, 1, 0, 1, 1, 1, 1, 0, 0, 0, 0, 0, 0, 0, 0, 0, 0, 0, 0, 0, 0,\n",
       "       1, 1, 1, 0, 0, 0, 0, 0, 0, 0, 1, 1, 0, 0, 0, 1, 1, 1, 1, 1, 0, 1,\n",
       "       1, 1, 0, 0, 1, 0, 1, 1, 1, 1, 0, 1, 1, 0, 0, 0, 1, 1, 0, 0, 1, 1,\n",
       "       0, 1, 0, 1, 0, 1, 1, 1, 1, 1, 1, 0, 0, 0, 0, 0, 0, 1, 1, 1, 0, 1,\n",
       "       1, 1, 1, 1, 1, 1, 0, 0, 0, 0, 1, 1, 0, 0, 0, 0, 0, 0, 0, 0, 0, 1,\n",
       "       1, 0, 0, 1, 1, 1, 0, 0, 0, 0, 0, 0, 1, 1, 0, 0, 1, 1, 1, 1, 1, 0,\n",
       "       0, 0, 0, 0, 0, 0, 1, 0, 1, 1, 1, 1, 1, 1, 1, 1, 0, 1, 0, 0, 1, 1,\n",
       "       1, 1, 1, 1, 0, 0, 0, 0, 1, 1, 1, 1, 1, 0, 0, 0, 0, 1, 1, 1, 1, 1,\n",
       "       1, 1, 1, 1, 1, 0, 0, 0, 0, 0, 0, 0, 0, 0, 0, 0, 0, 1, 1, 0, 0, 0,\n",
       "       1, 1, 1, 1, 0, 0, 1, 1, 1, 1, 0, 0, 1, 1, 0, 0, 0, 0, 0, 0, 1, 1,\n",
       "       0, 0, 1, 1, 0, 1, 1, 1, 1, 1, 1, 1, 1, 1, 1, 0, 0, 0, 0, 0, 0, 0,\n",
       "       0, 0, 0, 1, 0, 0, 0, 0, 0, 0, 1, 1, 0, 0, 1, 1, 1, 0, 0, 1, 1, 1,\n",
       "       1, 1, 1, 1, 0, 1, 1, 0, 0, 1, 1, 1, 1], dtype=int64)"
      ]
     },
     "execution_count": 45,
     "metadata": {},
     "output_type": "execute_result"
    }
   ],
   "source": [
    "clf = SVC()\n",
    "\n",
    "clf.fit(X_train, y_train)\n",
    "accuracy = clf.score(X_test, y_test)\n",
    "print(\"Test Accuracy:\",accuracy)\n",
    "\n",
    "predict = clf.predict(X_test)\n",
    "predict"
   ]
  },
  {
   "cell_type": "code",
   "execution_count": null,
   "id": "5621fd80-f8e6-43df-9719-efb8e210d14b",
   "metadata": {},
   "outputs": [],
   "source": []
  },
  {
   "cell_type": "code",
   "execution_count": 46,
   "id": "f3442c9f-d5bd-4923-b252-e03237d72ec9",
   "metadata": {},
   "outputs": [],
   "source": [
    "import itertools\n",
    "sns.set_theme(style=\"dark\")\n",
    "def plot_confusion_matrix(cm, classes, normalize=False,title='Confusion matrix', cmap=plt.cm.Blues):\n",
    "    \"\"\"\n",
    "    This function prints and plots the confusion matrix.\n",
    "    Normalization can be applied by setting `normalize=True`.\n",
    "    \"\"\"\n",
    "    if normalize:\n",
    "        cm = cm.astype('float') / cm.sum(axis=1)[:, np.newaxis]\n",
    "        print(\"Normalized confusion matrix\")\n",
    "    else:\n",
    "        print('Confusion matrix, without normalization')\n",
    "\n",
    "    print(cm)\n",
    "\n",
    "    plt.imshow(cm, interpolation='nearest', cmap=cmap)\n",
    "    plt.title(title)\n",
    "    plt.colorbar()\n",
    "    tick_marks = np.arange(len(classes))\n",
    "    plt.xticks(tick_marks, classes, rotation=45)\n",
    "    plt.yticks(tick_marks, classes)\n",
    "\n",
    "    fmt = '.2f' if normalize else 'd'\n",
    "    thresh = cm.max() / 2.\n",
    "    for i, j in itertools.product(range(cm.shape[0]), range(cm.shape[1])):\n",
    "        plt.text(j, i, format(cm[i, j], fmt),\n",
    "                 horizontalalignment=\"center\",\n",
    "                 color=\"white\" if cm[i, j] > thresh else \"black\")\n",
    "\n",
    "    plt.tight_layout()\n",
    "    plt.ylabel('True label')\n",
    "    plt.xlabel('Predicted label')"
   ]
  },
  {
   "cell_type": "code",
   "execution_count": 47,
   "id": "818668f6-fe74-42aa-9cc6-a914ace09e19",
   "metadata": {
    "scrolled": true
   },
   "outputs": [
    {
     "name": "stdout",
     "output_type": "stream",
     "text": [
      "              precision    recall  f1-score   support\n",
      "\n",
      "           0       0.87      0.72      0.79       209\n",
      "           1       0.65      0.83      0.73       134\n",
      "\n",
      "    accuracy                           0.76       343\n",
      "   macro avg       0.76      0.77      0.76       343\n",
      "weighted avg       0.78      0.76      0.76       343\n",
      "\n",
      "Confusion matrix, without normalization\n",
      "[[150  59]\n",
      " [ 23 111]]\n"
     ]
    }
   ],
   "source": [
    "# Compute confusion matrix\n",
    "cnf_matrix = confusion_matrix(y_test, predict, labels=[0,1])\n",
    "np.set_printoptions(precision=2)\n",
    "\n",
    "print (classification_report(y_test, predict))\n",
    "\n",
    "# Plot non-normalized confusion matrix\n",
    "plt.figure()\n",
    "plot_confusion_matrix(cnf_matrix, classes=['Benign(0)','Malignant(1)'],normalize= False,  title='Confusion matrix')"
   ]
  },
  {
   "cell_type": "code",
   "execution_count": 48,
   "id": "b4123121-efd0-4dd4-a7b5-389d36565004",
   "metadata": {},
   "outputs": [
    {
     "ename": "NameError",
     "evalue": "name 'y_pred' is not defined",
     "output_type": "error",
     "traceback": [
      "\u001b[1;31m---------------------------------------------------------------------------\u001b[0m",
      "\u001b[1;31mNameError\u001b[0m                                 Traceback (most recent call last)",
      "Cell \u001b[1;32mIn[48], line 4\u001b[0m\n\u001b[0;32m      2\u001b[0m \u001b[38;5;28;01mfrom\u001b[39;00m \u001b[38;5;21;01msklearn\u001b[39;00m\u001b[38;5;21;01m.\u001b[39;00m\u001b[38;5;21;01mmetrics\u001b[39;00m \u001b[38;5;28;01mimport\u001b[39;00m roc_auc_score\n\u001b[0;32m      3\u001b[0m \u001b[38;5;28;01mfrom\u001b[39;00m \u001b[38;5;21;01msklearn\u001b[39;00m\u001b[38;5;21;01m.\u001b[39;00m\u001b[38;5;21;01mmetrics\u001b[39;00m \u001b[38;5;28;01mimport\u001b[39;00m auc\n\u001b[1;32m----> 4\u001b[0m fpr, tpr, thresholds \u001b[38;5;241m=\u001b[39m roc_curve(y_val, \u001b[43my_pred\u001b[49m)\n",
      "\u001b[1;31mNameError\u001b[0m: name 'y_pred' is not defined"
     ]
    }
   ],
   "source": [
    "from sklearn.metrics import roc_curve\n",
    "from sklearn.metrics import roc_auc_score\n",
    "from sklearn.metrics import auc\n",
    "fpr, tpr, thresholds = roc_curve(y_val, y_pred)"
   ]
  },
  {
   "cell_type": "code",
   "execution_count": null,
   "id": "fd56d8af-4b90-44bf-8b9d-9428193eea14",
   "metadata": {},
   "outputs": [],
   "source": [
    "from sklearn.linear_model import LogisticRegression\n",
    "\n",
    "model = LogisticRegression(solver='liblinear', random_state=1)\n",
    "model.fit(X_train, y_train)\n",
    "y_pred = model.predict_proba(X_val)[:, 1]\n",
    "conv = y_pred > 0.5\n",
    "(y_val == conv).mean()"
   ]
  },
  {
   "cell_type": "code",
   "execution_count": null,
   "id": "43507105-b9ec-4b7a-b904-2a263b40b972",
   "metadata": {},
   "outputs": [],
   "source": [
    "plt.figure(figsize=(5, 5))\n",
    "\n",
    "plt.plot(fpr, tpr,label='Logistic Regression (full model)')\n",
    "\n",
    "plt.xlabel('FPR')\n",
    "plt.ylabel('TPR')\n",
    "\n",
    "plt.legend()"
   ]
  },
  {
   "cell_type": "code",
   "execution_count": null,
   "id": "ed0034d5-185b-4822-893a-93e71352211d",
   "metadata": {},
   "outputs": [],
   "source": [
    "roc_auc_score(y_val, y_pred)"
   ]
  },
  {
   "cell_type": "code",
   "execution_count": null,
   "id": "0f3cf99a-3c25-4307-ac3f-8bea6322a8ae",
   "metadata": {},
   "outputs": [],
   "source": [
    "features_coefs = dict(zip(dv.get_feature_names_out(), model.coef_[0].round(3)))\n",
    "sorted_data = dict(sorted(features_coefs.items(), key=lambda item: abs(item[1]), reverse=True))\n",
    "sorted_data"
   ]
  },
  {
   "cell_type": "code",
   "execution_count": null,
   "id": "2232a1b4-2889-4b25-b018-0d1debe3cb11",
   "metadata": {},
   "outputs": [],
   "source": [
    "\n",
    "rf = RandomForestClassifier(n_estimators=10, random_state=1, n_jobs=-1)\n",
    "rf.fit(X_train, y_train)"
   ]
  },
  {
   "cell_type": "code",
   "execution_count": null,
   "id": "9d228d34-c06f-474a-ad55-0cc97474cd36",
   "metadata": {},
   "outputs": [],
   "source": [
    "y_pred_val_rf = rf.predict_proba(X_val)[:, 1]\n",
    "fpr_rf, tpr_rf, thresholds_rf = roc_curve(y_val, y_pred_val_rf)\n",
    "roc_auc_score(y_val, y_pred_val_rf)"
   ]
  },
  {
   "cell_type": "code",
   "execution_count": null,
   "id": "2d496d79-dc16-4f19-b753-49aa3d366e4a",
   "metadata": {},
   "outputs": [],
   "source": [
    "import xgboost as xgb\n",
    "\n",
    "features = dv.get_feature_names_out().tolist() \n",
    "dtrain = xgb.DMatrix(X_train_scaled, label=y_train, feature_names=features)\n",
    "dval = xgb.DMatrix(X_val_scaled, label=y_val, feature_names=features)\n",
    "\n",
    "xgb_params = {\n",
    "    'eta': 0.1, \n",
    "    'max_depth': 6,\n",
    "    'min_child_weight': 1,\n",
    "    \n",
    "    'objective': 'binary:logistic',\n",
    "    'nthread': 8,\n",
    "    \n",
    "    'seed': 1,\n",
    "    'verbosity': 1,\n",
    "}\n",
    "\n",
    "xgb_model = xgb.train(xgb_params, dtrain, num_boost_round=100)"
   ]
  },
  {
   "cell_type": "code",
   "execution_count": null,
   "id": "5f796e0c-ee54-4204-b84f-9f5115ca925f",
   "metadata": {},
   "outputs": [],
   "source": [
    "y_pred_xg = xgb_model.predict(dval)\n",
    "fpr_xg, tpr_xg, thresholds_xg = roc_curve(y_val, y_pred_xg)\n",
    "roc_auc_score(y_val, y_pred_xg)"
   ]
  },
  {
   "cell_type": "code",
   "execution_count": null,
   "id": "a6f6ef1b-b7d8-4bb4-b10b-5b370eec62fd",
   "metadata": {},
   "outputs": [],
   "source": []
  }
 ],
 "metadata": {
  "kernelspec": {
   "display_name": "Python (gpu_env)",
   "language": "python",
   "name": "gpu_env"
  },
  "language_info": {
   "codemirror_mode": {
    "name": "ipython",
    "version": 3
   },
   "file_extension": ".py",
   "mimetype": "text/x-python",
   "name": "python",
   "nbconvert_exporter": "python",
   "pygments_lexer": "ipython3",
   "version": "3.10.13"
  }
 },
 "nbformat": 4,
 "nbformat_minor": 5
}
